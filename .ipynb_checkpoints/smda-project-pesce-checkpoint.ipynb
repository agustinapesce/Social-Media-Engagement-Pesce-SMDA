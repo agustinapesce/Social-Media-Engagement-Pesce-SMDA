{
 "cells": [
  {
   "cell_type": "markdown",
   "metadata": {},
   "source": [
    "## SMDA"
   ]
  },
  {
   "cell_type": "code",
   "execution_count": 208,
   "metadata": {},
   "outputs": [],
   "source": [
    "import pandas as pd\n",
    "import matplotlib.pyplot as plt"
   ]
  },
  {
   "cell_type": "markdown",
   "metadata": {},
   "source": [
    "TEST data retrieval format"
   ]
  },
  {
   "cell_type": "code",
   "execution_count": 209,
   "metadata": {},
   "outputs": [],
   "source": [
    "first_file = pd.read_csv('data/2023-07-30-16-58-27-CEST-Historical-Report-USA-Media---SMDA-Project-2022-07-30--2023-07-30.csv')\n",
    "\n",
    "#Rename column with long name\n",
    "first_file = first_file.rename(columns={\"Overperforming Score (weighted  —  Likes 1x Shares 1x Comments 1x Love 1x Wow 1x Haha 1x Sad 1x Angry 1x Care 1x )\": \"Overperforming Score\"})\n"
   ]
  },
  {
   "cell_type": "code",
   "execution_count": 210,
   "metadata": {},
   "outputs": [
    {
     "name": "stdout",
     "output_type": "stream",
     "text": [
      "1000\n",
      "Index(['Page Name', 'User Name', 'Facebook Id', 'Page Category',\n",
      "       'Page Admin Top Country', 'Page Description', 'Page Created',\n",
      "       'Likes at Posting', 'Followers at Posting', 'Post Created',\n",
      "       'Post Created Date', 'Post Created Time', 'Type', 'Total Interactions',\n",
      "       'Likes', 'Comments', 'Shares', 'Love', 'Wow', 'Haha', 'Sad', 'Angry',\n",
      "       'Care', 'Video Share Status', 'Is Video Owner?', 'Post Views',\n",
      "       'Total Views', 'Total Views For All Crossposts', 'Video Length', 'URL',\n",
      "       'Message', 'Link', 'Final Link', 'Image Text', 'Link Text',\n",
      "       'Description', 'Sponsor Id', 'Sponsor Name', 'Sponsor Category',\n",
      "       'Overperforming Score'],\n",
      "      dtype='object')\n"
     ]
    },
    {
     "data": {
      "text/html": [
       "<div>\n",
       "<style scoped>\n",
       "    .dataframe tbody tr th:only-of-type {\n",
       "        vertical-align: middle;\n",
       "    }\n",
       "\n",
       "    .dataframe tbody tr th {\n",
       "        vertical-align: top;\n",
       "    }\n",
       "\n",
       "    .dataframe thead th {\n",
       "        text-align: right;\n",
       "    }\n",
       "</style>\n",
       "<table border=\"1\" class=\"dataframe\">\n",
       "  <thead>\n",
       "    <tr style=\"text-align: right;\">\n",
       "      <th></th>\n",
       "      <th>Page Name</th>\n",
       "      <th>User Name</th>\n",
       "      <th>Facebook Id</th>\n",
       "      <th>Page Category</th>\n",
       "      <th>Page Admin Top Country</th>\n",
       "      <th>Page Description</th>\n",
       "      <th>Page Created</th>\n",
       "      <th>Likes at Posting</th>\n",
       "      <th>Followers at Posting</th>\n",
       "      <th>Post Created</th>\n",
       "      <th>...</th>\n",
       "      <th>Message</th>\n",
       "      <th>Link</th>\n",
       "      <th>Final Link</th>\n",
       "      <th>Image Text</th>\n",
       "      <th>Link Text</th>\n",
       "      <th>Description</th>\n",
       "      <th>Sponsor Id</th>\n",
       "      <th>Sponsor Name</th>\n",
       "      <th>Sponsor Category</th>\n",
       "      <th>Overperforming Score</th>\n",
       "    </tr>\n",
       "  </thead>\n",
       "  <tbody>\n",
       "    <tr>\n",
       "      <th>0</th>\n",
       "      <td>The American Spectator</td>\n",
       "      <td>americanspectator</td>\n",
       "      <td>100064326234306</td>\n",
       "      <td>NEWS_SITE</td>\n",
       "      <td>US</td>\n",
       "      <td>Providing the wittiest conservative commentary...</td>\n",
       "      <td>2010-06-03 17:41:47</td>\n",
       "      <td>126933</td>\n",
       "      <td>125815</td>\n",
       "      <td>2023-07-30 14:00:50 CEST</td>\n",
       "      <td>...</td>\n",
       "      <td>DeSantis' campaign is headed for self-destruct...</td>\n",
       "      <td>https://spectator.org/the-desantis-campaign-ne...</td>\n",
       "      <td>http://spectator.org/the-desantis-campaign-nee...</td>\n",
       "      <td>NaN</td>\n",
       "      <td>The DeSantis Campaign Needs a Better Message -...</td>\n",
       "      <td>Ron DeSantis launched his presidential campaig...</td>\n",
       "      <td>NaN</td>\n",
       "      <td>NaN</td>\n",
       "      <td>NaN</td>\n",
       "      <td>-0.94</td>\n",
       "    </tr>\n",
       "    <tr>\n",
       "      <th>1</th>\n",
       "      <td>The American Spectator</td>\n",
       "      <td>americanspectator</td>\n",
       "      <td>100064326234306</td>\n",
       "      <td>NEWS_SITE</td>\n",
       "      <td>US</td>\n",
       "      <td>Providing the wittiest conservative commentary...</td>\n",
       "      <td>2010-06-03 17:41:47</td>\n",
       "      <td>126940</td>\n",
       "      <td>125807</td>\n",
       "      <td>2023-07-30 01:00:21 CEST</td>\n",
       "      <td>...</td>\n",
       "      <td>McCarthy talks about expunging Trump impeachme...</td>\n",
       "      <td>https://spectator.org/speaker-mccarthy-trump-a...</td>\n",
       "      <td>http://spectator.org/speaker-mccarthy-trump-an...</td>\n",
       "      <td>NaN</td>\n",
       "      <td>Speaker McCarthy, Trump, and the Andrew Jackso...</td>\n",
       "      <td>President Andrew Jackson’s enemies hated him. ...</td>\n",
       "      <td>NaN</td>\n",
       "      <td>NaN</td>\n",
       "      <td>NaN</td>\n",
       "      <td>-5.50</td>\n",
       "    </tr>\n",
       "    <tr>\n",
       "      <th>2</th>\n",
       "      <td>The American Spectator</td>\n",
       "      <td>americanspectator</td>\n",
       "      <td>100064326234306</td>\n",
       "      <td>NEWS_SITE</td>\n",
       "      <td>US</td>\n",
       "      <td>Providing the wittiest conservative commentary...</td>\n",
       "      <td>2010-06-03 17:41:47</td>\n",
       "      <td>126940</td>\n",
       "      <td>125807</td>\n",
       "      <td>2023-07-30 00:00:24 CEST</td>\n",
       "      <td>...</td>\n",
       "      <td>Listen to the latest episode of The Spectacle ...</td>\n",
       "      <td>https://spectator.org/the-spectacle-ep-37-bide...</td>\n",
       "      <td>http://spectator.org/the-spectacle-ep-37-biden...</td>\n",
       "      <td>NaN</td>\n",
       "      <td>The Spectacle Ep. 37: Biden: What a Paid-Off P...</td>\n",
       "      <td>What does it mean when the president of the Un...</td>\n",
       "      <td>NaN</td>\n",
       "      <td>NaN</td>\n",
       "      <td>NaN</td>\n",
       "      <td>-2.56</td>\n",
       "    </tr>\n",
       "    <tr>\n",
       "      <th>3</th>\n",
       "      <td>The American Spectator</td>\n",
       "      <td>americanspectator</td>\n",
       "      <td>100064326234306</td>\n",
       "      <td>NEWS_SITE</td>\n",
       "      <td>US</td>\n",
       "      <td>Providing the wittiest conservative commentary...</td>\n",
       "      <td>2010-06-03 17:41:47</td>\n",
       "      <td>126940</td>\n",
       "      <td>125807</td>\n",
       "      <td>2023-07-29 22:00:31 CEST</td>\n",
       "      <td>...</td>\n",
       "      <td>Israel is divided by a massive culture war.</td>\n",
       "      <td>https://spectator.org/what-israels-protests-ar...</td>\n",
       "      <td>http://spectator.org/what-israels-protests-are...</td>\n",
       "      <td>NaN</td>\n",
       "      <td>What Israel’s Protests Are Really About - The ...</td>\n",
       "      <td>Many Israelis have once again taken to mass pr...</td>\n",
       "      <td>NaN</td>\n",
       "      <td>NaN</td>\n",
       "      <td>NaN</td>\n",
       "      <td>-2.88</td>\n",
       "    </tr>\n",
       "    <tr>\n",
       "      <th>4</th>\n",
       "      <td>The American Spectator</td>\n",
       "      <td>americanspectator</td>\n",
       "      <td>100064326234306</td>\n",
       "      <td>NEWS_SITE</td>\n",
       "      <td>US</td>\n",
       "      <td>Providing the wittiest conservative commentary...</td>\n",
       "      <td>2010-06-03 17:41:47</td>\n",
       "      <td>126940</td>\n",
       "      <td>125807</td>\n",
       "      <td>2023-07-29 20:00:44 CEST</td>\n",
       "      <td>...</td>\n",
       "      <td>The dumbest criminals in America seem to live ...</td>\n",
       "      <td>https://spectator.org/five-quick-things-the-un...</td>\n",
       "      <td>http://spectator.org/five-quick-things-the-unb...</td>\n",
       "      <td>NaN</td>\n",
       "      <td>Five Quick Things: The Unbearable Sloppiness o...</td>\n",
       "      <td>Joe Biden and his brother and son were without...</td>\n",
       "      <td>NaN</td>\n",
       "      <td>NaN</td>\n",
       "      <td>NaN</td>\n",
       "      <td>-7.67</td>\n",
       "    </tr>\n",
       "  </tbody>\n",
       "</table>\n",
       "<p>5 rows × 40 columns</p>\n",
       "</div>"
      ],
      "text/plain": [
       "                Page Name          User Name      Facebook Id Page Category  \\\n",
       "0  The American Spectator  americanspectator  100064326234306     NEWS_SITE   \n",
       "1  The American Spectator  americanspectator  100064326234306     NEWS_SITE   \n",
       "2  The American Spectator  americanspectator  100064326234306     NEWS_SITE   \n",
       "3  The American Spectator  americanspectator  100064326234306     NEWS_SITE   \n",
       "4  The American Spectator  americanspectator  100064326234306     NEWS_SITE   \n",
       "\n",
       "  Page Admin Top Country                                   Page Description  \\\n",
       "0                     US  Providing the wittiest conservative commentary...   \n",
       "1                     US  Providing the wittiest conservative commentary...   \n",
       "2                     US  Providing the wittiest conservative commentary...   \n",
       "3                     US  Providing the wittiest conservative commentary...   \n",
       "4                     US  Providing the wittiest conservative commentary...   \n",
       "\n",
       "          Page Created  Likes at Posting  Followers at Posting  \\\n",
       "0  2010-06-03 17:41:47            126933                125815   \n",
       "1  2010-06-03 17:41:47            126940                125807   \n",
       "2  2010-06-03 17:41:47            126940                125807   \n",
       "3  2010-06-03 17:41:47            126940                125807   \n",
       "4  2010-06-03 17:41:47            126940                125807   \n",
       "\n",
       "               Post Created  ...  \\\n",
       "0  2023-07-30 14:00:50 CEST  ...   \n",
       "1  2023-07-30 01:00:21 CEST  ...   \n",
       "2  2023-07-30 00:00:24 CEST  ...   \n",
       "3  2023-07-29 22:00:31 CEST  ...   \n",
       "4  2023-07-29 20:00:44 CEST  ...   \n",
       "\n",
       "                                             Message  \\\n",
       "0  DeSantis' campaign is headed for self-destruct...   \n",
       "1  McCarthy talks about expunging Trump impeachme...   \n",
       "2  Listen to the latest episode of The Spectacle ...   \n",
       "3       Israel is divided by a massive culture war.    \n",
       "4  The dumbest criminals in America seem to live ...   \n",
       "\n",
       "                                                Link  \\\n",
       "0  https://spectator.org/the-desantis-campaign-ne...   \n",
       "1  https://spectator.org/speaker-mccarthy-trump-a...   \n",
       "2  https://spectator.org/the-spectacle-ep-37-bide...   \n",
       "3  https://spectator.org/what-israels-protests-ar...   \n",
       "4  https://spectator.org/five-quick-things-the-un...   \n",
       "\n",
       "                                          Final Link Image Text  \\\n",
       "0  http://spectator.org/the-desantis-campaign-nee...        NaN   \n",
       "1  http://spectator.org/speaker-mccarthy-trump-an...        NaN   \n",
       "2  http://spectator.org/the-spectacle-ep-37-biden...        NaN   \n",
       "3  http://spectator.org/what-israels-protests-are...        NaN   \n",
       "4  http://spectator.org/five-quick-things-the-unb...        NaN   \n",
       "\n",
       "                                           Link Text  \\\n",
       "0  The DeSantis Campaign Needs a Better Message -...   \n",
       "1  Speaker McCarthy, Trump, and the Andrew Jackso...   \n",
       "2  The Spectacle Ep. 37: Biden: What a Paid-Off P...   \n",
       "3  What Israel’s Protests Are Really About - The ...   \n",
       "4  Five Quick Things: The Unbearable Sloppiness o...   \n",
       "\n",
       "                                         Description  Sponsor Id  \\\n",
       "0  Ron DeSantis launched his presidential campaig...         NaN   \n",
       "1  President Andrew Jackson’s enemies hated him. ...         NaN   \n",
       "2  What does it mean when the president of the Un...         NaN   \n",
       "3  Many Israelis have once again taken to mass pr...         NaN   \n",
       "4  Joe Biden and his brother and son were without...         NaN   \n",
       "\n",
       "   Sponsor Name  Sponsor Category  Overperforming Score  \n",
       "0           NaN               NaN                 -0.94  \n",
       "1           NaN               NaN                 -5.50  \n",
       "2           NaN               NaN                 -2.56  \n",
       "3           NaN               NaN                 -2.88  \n",
       "4           NaN               NaN                 -7.67  \n",
       "\n",
       "[5 rows x 40 columns]"
      ]
     },
     "execution_count": 210,
     "metadata": {},
     "output_type": "execute_result"
    }
   ],
   "source": [
    "#Get length, column names and preview\n",
    "print(len(first_file))\n",
    "print(first_file.columns)\n",
    "first_file.head()"
   ]
  },
  {
   "cell_type": "code",
   "execution_count": 211,
   "metadata": {},
   "outputs": [],
   "source": [
    "#Info on what columns mean:\n",
    "#https://help.crowdtangle.com/en/articles/3213537-crowdtangle-codebook\n",
    "\n",
    "#Link: The link the publisher uploaded, which could be a link-shortened URL. \n",
    "#Final Link: The unfurled link, if a URL has been shortened.\n",
    "#Image Text: Any text written on the image, scraped using OCR.\n",
    "#Sponsor ID: For branded content, the page ID of the marketer, not the page poster."
   ]
  },
  {
   "cell_type": "code",
   "execution_count": 212,
   "metadata": {},
   "outputs": [
    {
     "name": "stdout",
     "output_type": "stream",
     "text": [
      "americanspectator\n",
      "\n",
      "https://www.facebook.com/100064326234306/posts/666951255459076\n",
      "\n",
      "126933\n",
      "125815\n",
      "Link\n",
      "\n",
      "1\n",
      "0\n",
      "0\n",
      "1\n",
      "\n",
      "DeSantis' campaign is headed for self-destruction. \n",
      "\n"
     ]
    }
   ],
   "source": [
    "#Page info\n",
    "#print(first_file['Page Name'][0])\n",
    "print(first_file['User Name'][0])\n",
    "#print(first_file['Page Category'][0]) #NEWS_SITE #Self-described\n",
    "print()\n",
    "\n",
    "#Post identifier\n",
    "print(first_file['URL'][0]) \n",
    "print()\n",
    "\n",
    "#Controls\n",
    "print(first_file['Likes at Posting'][0]) #Number #Can either like or follow pages\n",
    "print(first_file['Followers at Posting'][0]) #Number\n",
    "\n",
    "print(first_file['Type'][0]) #Link #think they used it as control\n",
    "#For Facebook this includes links, photo, native video, non-native video \n",
    "#(i.e. YouTube links), and live video\n",
    "#print(first_file['Link'][0]) #embeded link\n",
    "print()\n",
    "\n",
    "#Interactions\n",
    "print(first_file['Total Interactions'][0]) #1\n",
    "print(first_file['Likes'][0])\n",
    "print(first_file['Comments'][0]) #just comments to the post, nor replies to these\n",
    "print(first_file['Shares'][0])   #1\n",
    "#print(first_file['Love'][0]) \n",
    "#print(first_file['Wow'][0]) \n",
    "#print(first_file['Haha'][0]) \n",
    "#print(first_file['Sad'][0]) \n",
    "#print(first_file['Angry'][0]) \n",
    "#print(first_file['Care'][0]) \n",
    "print()\n",
    "\n",
    "#Text\n",
    "print(first_file['Message'][0]) \n",
    "#print(first_file['Image Text'][0])\n",
    "#print(first_file['Link Text'][0])\n",
    "#print(first_file['Description'][0]) #??\n",
    "print()\n",
    "\n",
    "#Views #Apparently this are for native videos\n",
    "#print(first_file['Post Views'][0]) #Whats the difference??\n",
    "#print(first_file['Total Views'][0]) \n",
    "#print(first_file['Total Views For All Crossposts'][0]) \n",
    "#print()\n",
    "\n",
    "#Sponsor\n",
    "#print(first_file['Sponsor Category'][0]) #NaN\n",
    "#print(first_file['Sponsor Category'][0]) #NaN\n",
    "#print()\n",
    "\n",
    "#Overperforming Score\n",
    "#The overperformance is computed relative to similar posts from the same page in similar \n",
    "#timeframes - high overperformance from a New York Times video posted in the last 15 minutes \n",
    "#would mean that the post got more interactions than previously posted New York Times videos in \n",
    "#their first 15 minutes of posting.\n",
    "#print(first_file['Overperforming Score'][0])\n"
   ]
  },
  {
   "cell_type": "markdown",
   "metadata": {},
   "source": [
    "Media accounts"
   ]
  },
  {
   "cell_type": "code",
   "execution_count": 213,
   "metadata": {},
   "outputs": [],
   "source": [
    "#User Name\n",
    "vleft = [\"AlterNetNews\",\"TheAtlantic\",\"democracynow\",\"thedailybeast\",\"HuffPost\",\"theinterceptflm\", \\\n",
    "        \"jacobinmag\",\"motherjones\",\"msnbc\",\"newyorker\",\"nytimes\",\"thenationdaily\", \"Slate\",\"Vox\"]\n",
    "\n",
    "left = [\"ABCNews\",\"APNews\",\"axiosnews\",\"bloombergbusiness\",\"CBSNews\",\"cnn\",\"theguardian\",\"insider\",\\\n",
    "        \"NBCNews\",\"NPR\",\"politico\",\"propublica\",\"time\",\"washingtonpost\",\"usatoday\",\"yahoonews\"]\n",
    "\n",
    "vright = [\"The.American.Conservative\",\"americanspectator\",\"Breitbart\",\"TheBlaze\",\"cbnonline\",\\\n",
    "         \"DailyCaller\",\"DailyMail\",\"DailyWire\",\"FoxNews\",\"fdrlst\",\"theijr\",\"nationalreview\",\\\n",
    "         \"newsmax\",\"FreeBeacon\",\"OneAmericaNewsNetwork\"]\n",
    "         #No Facebook page New York Post (Opinion) (vright)\n",
    "\n",
    "right = [\"thedispatchinc\",\"epochtimes\",\"FoxBusiness\",\"NYPost\",\"ThePostMillennial\",\"Reason.Magazine\",\\\n",
    "        \"WSJ\",\"WashingtonExaminer\",\"TheWashingtonTimes\"]"
   ]
  },
  {
   "cell_type": "code",
   "execution_count": 214,
   "metadata": {},
   "outputs": [
    {
     "name": "stdout",
     "output_type": "stream",
     "text": [
      "30\n",
      "24\n"
     ]
    }
   ],
   "source": [
    "left_media = vleft + left\n",
    "rigth_media = vright + right\n",
    "\n",
    "print(len(left_media))\n",
    "print(len(rigth_media))"
   ]
  },
  {
   "cell_type": "markdown",
   "metadata": {},
   "source": [
    "MEDIA data"
   ]
  },
  {
   "cell_type": "code",
   "execution_count": 215,
   "metadata": {},
   "outputs": [],
   "source": [
    "def ct_preprocc(ct_df, output: bool = True, graph: bool = False):\n",
    "\n",
    "    #Change long column name\n",
    "    ct_df = ct_df.rename(columns={\"Overperforming Score (weighted  —  Likes 1x Shares 1x Comments 1x Love 1x Wow 1x Haha 1x Sad 1x Angry 1x Care 1x )\": \"Overperforming Score\"})\n",
    "\n",
    "    #Create date column with year and month info (higher resolution not necessary)\n",
    "    ct_df[\"Date\"] = pd.to_datetime(ct_df[\"Post Created\"].apply(lambda x: x[:7]), format='%Y-%m')\n",
    "\n",
    "    #Visualization of info\n",
    "    if output == True:\n",
    "        print(\"Published posts per month\")\n",
    "        print(ct_df[\"Date\"].groupby([ct_df[\"Date\"].dt.year, ct_df[\"Date\"].dt.month]).count())\n",
    "        \n",
    "    if graph == True:\n",
    "        fig, ax = plt.subplots()\n",
    "        #ax.ticklabel_format(style='sci', scilimits = (0,0))\n",
    "        ax = ct_df[\"Date\"].groupby([ct_df[\"Date\"].dt.year, ct_df[\"Date\"].dt.month]).count().plot(kind=\"bar\")\n",
    "        y2 = ax.twinx()\n",
    "        y2.set_ylim(ax.get_ylim())\n",
    "        ax.set_title('Published posts per month')\n",
    "        ax.set_xlabel('Year and month')\n",
    "        ax.set_ylabel('Posts number')\n",
    "        fig.show()\n",
    "        \n",
    "    return ct_df"
   ]
  },
  {
   "cell_type": "code",
   "execution_count": 216,
   "metadata": {},
   "outputs": [
    {
     "name": "stderr",
     "output_type": "stream",
     "text": [
      "C:\\Users\\agust\\AppData\\Local\\Temp\\ipykernel_25356\\1723684092.py:1: DtypeWarning: Columns (37,38,39) have mixed types. Specify dtype option on import or set low_memory=False.\n",
      "  left_mediafb = pd.read_csv('data/2023-08-14-13-17-02-CEST-Historical-Report-USA-Media-Left---SMDA-Project-2020-08-06--2023-08-14.csv')\n"
     ]
    }
   ],
   "source": [
    "left_mediafb = pd.read_csv('data/2023-08-14-13-17-02-CEST-Historical-Report-USA-Media-Left---SMDA-Project-2020-08-06--2023-08-14.csv')"
   ]
  },
  {
   "cell_type": "code",
   "execution_count": 217,
   "metadata": {},
   "outputs": [
    {
     "name": "stdout",
     "output_type": "stream",
     "text": [
      "300000\n"
     ]
    }
   ],
   "source": [
    "print(len(left_mediafb))"
   ]
  },
  {
   "cell_type": "code",
   "execution_count": 218,
   "metadata": {},
   "outputs": [
    {
     "name": "stdout",
     "output_type": "stream",
     "text": [
      "Published posts per month\n",
      "Date  Date\n",
      "2023  1       39209\n",
      "      2       38754\n",
      "      3       43461\n",
      "      4       38159\n",
      "      5       43261\n",
      "      6       40083\n",
      "      7       39687\n",
      "      8       17386\n",
      "Name: Date, dtype: int64\n"
     ]
    },
    {
     "name": "stderr",
     "output_type": "stream",
     "text": [
      "C:\\Users\\agust\\AppData\\Local\\Temp\\ipykernel_25356\\3283898483.py:23: UserWarning: Matplotlib is currently using module://matplotlib_inline.backend_inline, which is a non-GUI backend, so cannot show the figure.\n",
      "  fig.show()\n"
     ]
    },
    {
     "data": {
      "image/png": "[encoded data removed]",
      "text/plain": [
       "<Figure size 640x480 with 2 Axes>"
      ]
     },
     "metadata": {},
     "output_type": "display_data"
    }
   ],
   "source": [
    "left_mediafb = ct_preprocc(left_mediafb, graph = True)"
   ]
  },
  {
   "cell_type": "code",
   "execution_count": 219,
   "metadata": {},
   "outputs": [
    {
     "name": "stderr",
     "output_type": "stream",
     "text": [
      "C:\\Users\\agust\\AppData\\Local\\Temp\\ipykernel_25356\\208876822.py:1: DtypeWarning: Columns (37,38,39) have mixed types. Specify dtype option on import or set low_memory=False.\n",
      "  right_mediafb = pd.read_csv('data/2023-08-14-13-44-21-CEST-Historical-Report-USA-Media-Right---SMDA-Project-2020-08-06--2023-08-14.csv')\n"
     ]
    }
   ],
   "source": [
    "right_mediafb = pd.read_csv('data/2023-08-14-13-44-21-CEST-Historical-Report-USA-Media-Right---SMDA-Project-2020-08-06--2023-08-14.csv')"
   ]
  },
  {
   "cell_type": "code",
   "execution_count": 220,
   "metadata": {},
   "outputs": [
    {
     "name": "stdout",
     "output_type": "stream",
     "text": [
      "300000\n"
     ]
    }
   ],
   "source": [
    "print(len(right_mediafb))"
   ]
  },
  {
   "cell_type": "code",
   "execution_count": 221,
   "metadata": {},
   "outputs": [
    {
     "name": "stdout",
     "output_type": "stream",
     "text": [
      "Published posts per month\n",
      "Date  Date\n",
      "2022  9        2734\n",
      "      10      28965\n",
      "      11      29096\n",
      "      12      28794\n",
      "2023  1       29502\n",
      "      2       26940\n",
      "      3       28262\n",
      "      4       28225\n",
      "      5       29639\n",
      "      6       28055\n",
      "      7       27878\n",
      "      8       11910\n",
      "Name: Date, dtype: int64\n"
     ]
    },
    {
     "name": "stderr",
     "output_type": "stream",
     "text": [
      "C:\\Users\\agust\\AppData\\Local\\Temp\\ipykernel_25356\\3283898483.py:23: UserWarning: Matplotlib is currently using module://matplotlib_inline.backend_inline, which is a non-GUI backend, so cannot show the figure.\n",
      "  fig.show()\n"
     ]
    },
    {
     "data": {
      "image/png": "[encoded data removed]",
      "text/plain": [
       "<Figure size 640x480 with 2 Axes>"
      ]
     },
     "metadata": {},
     "output_type": "display_data"
    }
   ],
   "source": [
    "right_mediafb = ct_preprocc(right_mediafb, graph = True)"
   ]
  },
  {
   "cell_type": "markdown",
   "metadata": {},
   "source": [
    "CONGRESS data"
   ]
  },
  {
   "cell_type": "code",
   "execution_count": 222,
   "metadata": {},
   "outputs": [],
   "source": [
    "#Dates selection\n",
    "#print(len(dem_house[\"Date\"].between(\"2021-01-01 00:00:00\",\"2023-09-01 00:00:00\")))\n",
    "#len(dem_house.Date[dem_house['Date'] >= \"2021-01-01\"])\n",
    "#len(dem_senate.Date[dem_senate['Date'] >= \"2021-01-01\"])"
   ]
  },
  {
   "cell_type": "code",
   "execution_count": 223,
   "metadata": {},
   "outputs": [
    {
     "name": "stderr",
     "output_type": "stream",
     "text": [
      "C:\\Users\\agust\\AppData\\Local\\Temp\\ipykernel_25356\\3414759106.py:1: DtypeWarning: Columns (37,38,39) have mixed types. Specify dtype option on import or set low_memory=False.\n",
      "  dem_house = pd.read_csv('data/2023-08-14-18-42-12-CEST-Historical-Report-US-House-Democrats-2020-07-02--2023-08-13.csv')\n"
     ]
    }
   ],
   "source": [
    "dem_house = pd.read_csv('data/2023-08-14-18-42-12-CEST-Historical-Report-US-House-Democrats-2020-07-02--2023-08-13.csv')"
   ]
  },
  {
   "cell_type": "code",
   "execution_count": 224,
   "metadata": {},
   "outputs": [
    {
     "name": "stderr",
     "output_type": "stream",
     "text": [
      "C:\\Users\\agust\\AppData\\Local\\Temp\\ipykernel_25356\\3283898483.py:23: UserWarning: Matplotlib is currently using module://matplotlib_inline.backend_inline, which is a non-GUI backend, so cannot show the figure.\n",
      "  fig.show()\n"
     ]
    },
    {
     "data": {
      "image/png": "[encoded data removed]",
      "text/plain": [
       "<Figure size 640x480 with 2 Axes>"
      ]
     },
     "metadata": {},
     "output_type": "display_data"
    }
   ],
   "source": [
    "dem_house = ct_preprocc(dem_house, output = False, graph = True)"
   ]
  },
  {
   "cell_type": "code",
   "execution_count": 225,
   "metadata": {},
   "outputs": [
    {
     "name": "stderr",
     "output_type": "stream",
     "text": [
      "C:\\Users\\agust\\AppData\\Local\\Temp\\ipykernel_25356\\3113402520.py:1: DtypeWarning: Columns (37,38,39) have mixed types. Specify dtype option on import or set low_memory=False.\n",
      "  dem_senate = pd.read_csv('data/2023-08-14-18-08-59-CEST-Historical-Report-US-Senate-Democrats-2020-07-02--2023-08-13.csv')\n"
     ]
    }
   ],
   "source": [
    "dem_senate = pd.read_csv('data/2023-08-14-18-08-59-CEST-Historical-Report-US-Senate-Democrats-2020-07-02--2023-08-13.csv')"
   ]
  },
  {
   "cell_type": "code",
   "execution_count": 226,
   "metadata": {},
   "outputs": [
    {
     "name": "stderr",
     "output_type": "stream",
     "text": [
      "C:\\Users\\agust\\AppData\\Local\\Temp\\ipykernel_25356\\3283898483.py:23: UserWarning: Matplotlib is currently using module://matplotlib_inline.backend_inline, which is a non-GUI backend, so cannot show the figure.\n",
      "  fig.show()\n"
     ]
    },
    {
     "data": {
      "image/png": "[encoded data removed]",
      "text/plain": [
       "<Figure size 640x480 with 2 Axes>"
      ]
     },
     "metadata": {},
     "output_type": "display_data"
    }
   ],
   "source": [
    "dem_senate = ct_preprocc(dem_senate, output = False, graph = True)"
   ]
  },
  {
   "cell_type": "code",
   "execution_count": 227,
   "metadata": {},
   "outputs": [],
   "source": [
    "rep_senate = pd.read_csv('data/2023-08-14-17-56-44-CEST-Historical-Report-US-Senate-Republicans-2020-07-02--2023-08-13.csv')"
   ]
  },
  {
   "cell_type": "code",
   "execution_count": 228,
   "metadata": {},
   "outputs": [
    {
     "name": "stderr",
     "output_type": "stream",
     "text": [
      "C:\\Users\\agust\\AppData\\Local\\Temp\\ipykernel_25356\\3283898483.py:23: UserWarning: Matplotlib is currently using module://matplotlib_inline.backend_inline, which is a non-GUI backend, so cannot show the figure.\n",
      "  fig.show()\n"
     ]
    },
    {
     "data": {
      "image/png": "[encoded data removed]",
      "text/plain": [
       "<Figure size 640x480 with 2 Axes>"
      ]
     },
     "metadata": {},
     "output_type": "display_data"
    }
   ],
   "source": [
    "rep_senate = ct_preprocc(rep_senate, output = False, graph = True)"
   ]
  },
  {
   "cell_type": "code",
   "execution_count": 229,
   "metadata": {},
   "outputs": [
    {
     "name": "stderr",
     "output_type": "stream",
     "text": [
      "C:\\Users\\agust\\AppData\\Local\\Temp\\ipykernel_25356\\3162830394.py:1: DtypeWarning: Columns (37,38,39) have mixed types. Specify dtype option on import or set low_memory=False.\n",
      "  rep_house = pd.read_csv('data/2023-08-14-18-33-49-CEST-Historical-Report-US-House-Republicans-2020-07-02--2023-08-13.csv')\n"
     ]
    }
   ],
   "source": [
    "rep_house = pd.read_csv('data/2023-08-14-18-33-49-CEST-Historical-Report-US-House-Republicans-2020-07-02--2023-08-13.csv')"
   ]
  },
  {
   "cell_type": "code",
   "execution_count": 230,
   "metadata": {},
   "outputs": [
    {
     "name": "stderr",
     "output_type": "stream",
     "text": [
      "C:\\Users\\agust\\AppData\\Local\\Temp\\ipykernel_25356\\3283898483.py:23: UserWarning: Matplotlib is currently using module://matplotlib_inline.backend_inline, which is a non-GUI backend, so cannot show the figure.\n",
      "  fig.show()\n"
     ]
    },
    {
     "data": {
      "image/png": "[encoded data removed]",
      "text/plain": [
       "<Figure size 640x480 with 2 Axes>"
      ]
     },
     "metadata": {},
     "output_type": "display_data"
    }
   ],
   "source": [
    "rep_house = ct_preprocc(rep_house, output = False, graph = True)"
   ]
  },
  {
   "cell_type": "code",
   "execution_count": 231,
   "metadata": {},
   "outputs": [
    {
     "name": "stdout",
     "output_type": "stream",
     "text": [
      "Number of posts for retrieved congress data\n",
      "\n",
      "US House Democrats:  257506\n",
      "US Senate Democrats:  93600\n",
      "US Democrats:  351106\n",
      "\n",
      "US House Republicans:  211320\n",
      "US Senate Republicans:  75232\n",
      "US Republicans:  286552\n",
      "\n",
      "------------------------------------------------------------\n",
      "Original paper and replication differences\n",
      "\n",
      "Original Paper (Republicans - Democrats):  91740\n",
      "Replication (Democrats - Republicans):  64554\n",
      "\n",
      "Original Paper (tot):  825424\n",
      "Replication (tot):  637658\n",
      "N difference:  187766\n"
     ]
    }
   ],
   "source": [
    "print(\"Number of posts for retrieved congress data\") \n",
    "\n",
    "print()\n",
    "print(\"US House Democrats: \", len(dem_house))\n",
    "print(\"US Senate Democrats: \", len(dem_senate))\n",
    "dem_len = len(dem_house) + len(dem_senate)\n",
    "print(\"US Democrats: \", dem_len)\n",
    "\n",
    "print()\n",
    "print(\"US House Republicans: \", len(rep_house))\n",
    "print(\"US Senate Republicans: \", len(rep_senate))\n",
    "rep_len = len(rep_house) + len(rep_senate)\n",
    "print(\"US Republicans: \", rep_len)\n",
    "print()\n",
    "\n",
    "dash = '-' * 60\n",
    "print(dash)\n",
    "print(\"Original paper and replication differences\")\n",
    "\n",
    "print()\n",
    "print(\"Original Paper (Republicans - Democrats): \", 458582 - 366842)\n",
    "print(\"Replication (Democrats - Republicans): \", dem_len - rep_len)\n",
    "\n",
    "print()\n",
    "print(\"Original Paper (tot): \", 458582 + 366842)\n",
    "print(\"Replication (tot): \", dem_len + rep_len)\n",
    "print(\"N difference: \", 458582 + 366842 - dem_len - rep_len)\n"
   ]
  },
  {
   "cell_type": "markdown",
   "metadata": {},
   "source": [
    "DICTIONARIES"
   ]
  },
  {
   "cell_type": "markdown",
   "metadata": {},
   "source": [
    "Scraped current congress members"
   ]
  },
  {
   "cell_type": "code",
   "execution_count": 232,
   "metadata": {},
   "outputs": [],
   "source": [
    "import re\n",
    "#import requests\n",
    "#from bs4 import BeautifulSoup"
   ]
  },
  {
   "cell_type": "code",
   "execution_count": 233,
   "metadata": {},
   "outputs": [],
   "source": [
    "\n",
    "#congress_link = \"https://ballotpedia.org/List_of_current_members_of_the_U.S._Congress\"\n",
    "#header = {\"user-agent\": \"Mozilla/5.0 (Windows NT 10.0; Win64; x64) AppleWebKit/537.36 (KHTML, like Gecko) Chrome/107.0.0.0 Safari/537.36\"}\n",
    "\n",
    "##Scrape it with requests and make it easier to handle with Beautifulsoup\n",
    "#congress_get = requests.get(congress_link, headers = header)\n",
    "#congress_soup = BeautifulSoup(congress_get.content, 'html.parser') \n",
    "#print(congress_soup.prettify())"
   ]
  },
  {
   "cell_type": "code",
   "execution_count": 234,
   "metadata": {},
   "outputs": [],
   "source": [
    "#table = pd.read_html(congress_get.text)\n",
    "#df_senate = table[3] #List of current U.S. Senate members\n",
    "#df_house = table[6] #List of current U.S. House members"
   ]
  },
  {
   "cell_type": "code",
   "execution_count": 235,
   "metadata": {},
   "outputs": [],
   "source": [
    "#export tables\n",
    "\n",
    "#df_senate.to_pickle(\"dictionaries/118th_senate\")\n",
    "#df_house.to_pickle(\"dictionaries/118th_house\")"
   ]
  },
  {
   "cell_type": "code",
   "execution_count": 236,
   "metadata": {},
   "outputs": [],
   "source": [
    "df_senate = pd.read_pickle(\"dictionaries/118th_senate\")\n",
    "df_house = pd.read_pickle(\"dictionaries/118th_house\")\n"
   ]
  },
  {
   "cell_type": "code",
   "execution_count": 237,
   "metadata": {},
   "outputs": [],
   "source": [
    "def retrieve_members(df):\n",
    "    names = df.Name.to_list()\n",
    "    parties = df.Party.to_list()\n",
    "\n",
    "    rep = []\n",
    "    dem = []\n",
    "    for i, party in enumerate(parties):\n",
    "        if party == \"Republican\":\n",
    "            rep.append(names[i])\n",
    "        if party == \"Democratic\":\n",
    "            dem.append(names[i])\n",
    "\n",
    "    #Is useful to append names without middle initial \n",
    "    #because this is many times not used\n",
    "    pattern =  r\" [A-Z]. \"\n",
    "    for member in rep:\n",
    "        if re.search(pattern, member):\n",
    "            rep.append(re.sub(' [A-Z]. ', ' ', member))\n",
    "    \n",
    "    for member in dem:\n",
    "        if re.search(pattern, member):\n",
    "            dem.append(re.sub(' [A-Z]. ', ' ', member))\n",
    "\n",
    "    return rep, dem"
   ]
  },
  {
   "cell_type": "code",
   "execution_count": 238,
   "metadata": {},
   "outputs": [],
   "source": [
    "senate_rep, senate_dem = retrieve_members(df_senate)\n",
    "house_rep, house_dem = retrieve_members(df_house)\n",
    "\n",
    "congress_rep = senate_rep + house_rep\n",
    "congress_dem = senate_dem + house_dem\n"
   ]
  },
  {
   "cell_type": "markdown",
   "metadata": {},
   "source": [
    "Import previous congress members"
   ]
  },
  {
   "cell_type": "code",
   "execution_count": 239,
   "metadata": {},
   "outputs": [],
   "source": [
    "with open(\"dictionaries/DemocratCongressFB.txt\") as fle:\n",
    "    prev_congress_dem0 = list(filter(None, fle.read().split('\\n')))\n",
    "\n",
    "with open(\"dictionaries/RepublicansCongressFB.txt\") as fle:\n",
    "    prev_congress_rep0 = list(filter(None, fle.read().split('\\n')))"
   ]
  },
  {
   "cell_type": "code",
   "execution_count": 240,
   "metadata": {},
   "outputs": [],
   "source": [
    "#\\xa0 (nonbreaking space for FB links) strings\n",
    "prev_congress_dem = [re.sub(r\"\\xa0\", \" \", i) for i in prev_congress_dem0]\n",
    "prev_congress_rep = [re.sub(r\"\\xa0\", \" \", i) for i in prev_congress_rep0]"
   ]
  },
  {
   "cell_type": "markdown",
   "metadata": {},
   "source": [
    "Updated 100 most famous"
   ]
  },
  {
   "cell_type": "code",
   "execution_count": 241,
   "metadata": {},
   "outputs": [],
   "source": [
    "#Import and make a list with split and erase empty strings\n",
    "with open(\"dictionaries/MostFamousDemocratsFacebook-Repl.txt\") as fle:\n",
    "    famous_dem = list(filter(None, fle.read().split('\\n')))\n",
    "\n",
    "with open(\"dictionaries/MostFamousRepublicansFacebook-Repl.txt\") as fle:\n",
    "    famous_rep = list(filter(None, fle.read().split('\\n')))"
   ]
  },
  {
   "cell_type": "code",
   "execution_count": 242,
   "metadata": {},
   "outputs": [],
   "source": [
    "#Updated by looking which personalities werent in the list already and adding their FB accounts too\n",
    "\n",
    "#famous_rep\n",
    "#famous_dem\n"
   ]
  },
  {
   "cell_type": "markdown",
   "metadata": {},
   "source": [
    "Import identity files"
   ]
  },
  {
   "cell_type": "code",
   "execution_count": 243,
   "metadata": {},
   "outputs": [],
   "source": [
    "#Import and make a list with split\n",
    "with open(\"dictionaries/ConservativeIdentity-Repl.txt\") as fle:\n",
    "    ConservativeIdentity = fle.read().split('\\n')\n",
    "\n",
    "with open(\"dictionaries/LiberalIdentity-Repl.txt\") as fle:\n",
    "    LiberalIdentity = fle.read().split('\\n')"
   ]
  },
  {
   "cell_type": "code",
   "execution_count": 244,
   "metadata": {},
   "outputs": [],
   "source": [
    "#ConservativeIdentity\n",
    "#LiberalIdentity"
   ]
  },
  {
   "cell_type": "markdown",
   "metadata": {},
   "source": [
    "Join lists of congress, famous and identity"
   ]
  },
  {
   "cell_type": "code",
   "execution_count": 245,
   "metadata": {},
   "outputs": [
    {
     "name": "stdout",
     "output_type": "stream",
     "text": [
      "1078\n",
      "775\n"
     ]
    }
   ],
   "source": [
    "democrats_dict0 = congress_dem + prev_congress_dem + famous_dem + LiberalIdentity\n",
    "democrats_dict = list(set(democrats_dict0))\n",
    "\n",
    "print(len(democrats_dict0))\n",
    "print(len(democrats_dict))"
   ]
  },
  {
   "cell_type": "code",
   "execution_count": 246,
   "metadata": {},
   "outputs": [
    {
     "name": "stdout",
     "output_type": "stream",
     "text": [
      "1024\n",
      "746\n"
     ]
    }
   ],
   "source": [
    "republicans_dict0 = congress_rep + prev_congress_rep + famous_rep + ConservativeIdentity\n",
    "republicans_dict = list(set(republicans_dict0))\n",
    "\n",
    "print(len(republicans_dict0))\n",
    "print(len(republicans_dict))"
   ]
  },
  {
   "cell_type": "markdown",
   "metadata": {},
   "source": [
    "Erase meronymes for faster processing"
   ]
  },
  {
   "cell_type": "code",
   "execution_count": 247,
   "metadata": {},
   "outputs": [],
   "source": [
    "def avoid_meronymy(string_list):\n",
    "    string_list.sort(key=lambda s: len(s), reverse = False)\n",
    "    out = []\n",
    "    for s in string_list:\n",
    "        if not any([o in s for o in out]):\n",
    "            out.append(s)\n",
    "    return out"
   ]
  },
  {
   "cell_type": "code",
   "execution_count": 248,
   "metadata": {},
   "outputs": [],
   "source": [
    "ls = [\"resting\", \"looking\",'rest', 'look', 'hamlet']"
   ]
  },
  {
   "cell_type": "code",
   "execution_count": 249,
   "metadata": {},
   "outputs": [
    {
     "data": {
      "text/plain": [
       "['rest', 'look', 'hamlet']"
      ]
     },
     "execution_count": 249,
     "metadata": {},
     "output_type": "execute_result"
    }
   ],
   "source": [
    "avoid_meronymy(ls)"
   ]
  },
  {
   "cell_type": "code",
   "execution_count": 250,
   "metadata": {},
   "outputs": [],
   "source": [
    "#No duplicates\n",
    "democrats_dictnd = avoid_meronymy(democrats_dict)\n",
    "republicans_dictnd = avoid_meronymy(republicans_dict)"
   ]
  },
  {
   "cell_type": "markdown",
   "metadata": {},
   "source": [
    "Positive affect dictionary"
   ]
  },
  {
   "cell_type": "code",
   "execution_count": 251,
   "metadata": {},
   "outputs": [],
   "source": [
    "with open(\"dictionaries/Affect_neg.txt\") as fle:\n",
    "    affect_neg_dict = fle.read().split('\\n')"
   ]
  },
  {
   "cell_type": "code",
   "execution_count": 252,
   "metadata": {},
   "outputs": [],
   "source": [
    "#affect_neg_dict"
   ]
  },
  {
   "cell_type": "markdown",
   "metadata": {},
   "source": [
    "Negative affect dictionary"
   ]
  },
  {
   "cell_type": "code",
   "execution_count": 253,
   "metadata": {},
   "outputs": [],
   "source": [
    "with open(\"dictionaries/Affect_pos.txt\") as fle:\n",
    "    affect_pos_dict = fle.read().split('\\n')"
   ]
  },
  {
   "cell_type": "code",
   "execution_count": 254,
   "metadata": {},
   "outputs": [],
   "source": [
    "#affect_pos_dict"
   ]
  },
  {
   "cell_type": "markdown",
   "metadata": {},
   "source": [
    "Moral-emotional dictionary"
   ]
  },
  {
   "cell_type": "code",
   "execution_count": 255,
   "metadata": {},
   "outputs": [],
   "source": [
    "with open(\"dictionaries/MoralEmotional-Repl.txt\") as fle:\n",
    "    moral_emo_dict = fle.read().split('\\n')"
   ]
  },
  {
   "cell_type": "code",
   "execution_count": 256,
   "metadata": {},
   "outputs": [],
   "source": [
    "#moral_emo_dict"
   ]
  },
  {
   "cell_type": "markdown",
   "metadata": {},
   "source": [
    "Creating variables with the dictionaries"
   ]
  },
  {
   "cell_type": "code",
   "execution_count": 326,
   "metadata": {},
   "outputs": [],
   "source": [
    "name_emotion_dicts = {'names': ['John', 'Sara', \"Sara mccarty\", 'David', 'Emily'], \\\n",
    "                      'emotions': ['happy', 'sad']}\n",
    "\n",
    "names = '|'.join(name_emotion_dicts['names'])\n",
    "emotions = '|'.join(name_emotion_dicts['emotions'])"
   ]
  },
  {
   "cell_type": "code",
   "execution_count": 327,
   "metadata": {},
   "outputs": [],
   "source": [
    "def count_names_emotions(message):\n",
    "        \n",
    "    name_count = len(re.findall(rf'\\b({names})\\b', message, flags = re.IGNORECASE))\n",
    "    emotion_count = len(re.findall(rf'\\b({emotions})\\b', message, flags = re.IGNORECASE))\n",
    "    \n",
    "    return name_count, emotion_count"
   ]
  },
  {
   "cell_type": "code",
   "execution_count": 331,
   "metadata": {},
   "outputs": [],
   "source": [
    "stringy = pd.DataFrame({'Message': [\"sara and sara mccarty are sad and hap py\", 'my life happy']})"
   ]
  },
  {
   "cell_type": "code",
   "execution_count": 332,
   "metadata": {},
   "outputs": [],
   "source": [
    "term_countss = ['name_count', 'emotion_count']\n",
    "stringy[term_countss] = stringy['Message'].apply(lambda x: pd.Series(count_names_emotions(x)))\n"
   ]
  },
  {
   "cell_type": "code",
   "execution_count": 333,
   "metadata": {},
   "outputs": [
    {
     "data": {
      "text/html": [
       "<div>\n",
       "<style scoped>\n",
       "    .dataframe tbody tr th:only-of-type {\n",
       "        vertical-align: middle;\n",
       "    }\n",
       "\n",
       "    .dataframe tbody tr th {\n",
       "        vertical-align: top;\n",
       "    }\n",
       "\n",
       "    .dataframe thead th {\n",
       "        text-align: right;\n",
       "    }\n",
       "</style>\n",
       "<table border=\"1\" class=\"dataframe\">\n",
       "  <thead>\n",
       "    <tr style=\"text-align: right;\">\n",
       "      <th></th>\n",
       "      <th>Message</th>\n",
       "      <th>name_count</th>\n",
       "      <th>emotion_count</th>\n",
       "    </tr>\n",
       "  </thead>\n",
       "  <tbody>\n",
       "    <tr>\n",
       "      <th>0</th>\n",
       "      <td>sara and sara mccarty are sad and hap py</td>\n",
       "      <td>2</td>\n",
       "      <td>1</td>\n",
       "    </tr>\n",
       "    <tr>\n",
       "      <th>1</th>\n",
       "      <td>my life happy</td>\n",
       "      <td>0</td>\n",
       "      <td>1</td>\n",
       "    </tr>\n",
       "  </tbody>\n",
       "</table>\n",
       "</div>"
      ],
      "text/plain": [
       "                                    Message  name_count  emotion_count\n",
       "0  sara and sara mccarty are sad and hap py           2              1\n",
       "1                             my life happy           0              1"
      ]
     },
     "execution_count": 333,
     "metadata": {},
     "output_type": "execute_result"
    }
   ],
   "source": [
    "stringy"
   ]
  },
  {
   "cell_type": "code",
   "execution_count": 311,
   "metadata": {},
   "outputs": [],
   "source": [
    "democrat_terms   = '|'.join(democrats_dictnd)\n",
    "republican_terms = '|'.join(republicans_dictnd)\n",
    "affect_neg_terms = '|'.join(affect_neg_dict)\n",
    "affect_pos_terms = '|'.join(affect_pos_dict)\n",
    "moral_emo_terms  = '|'.join(moral_emo_dict)\n",
    "\n",
    "counting_dicts = {'democrat_terms' : democrat_terms, 'republican_terms' : republican_terms, \\\n",
    "                  'affect_neg_terms' : affect_neg_terms, 'affect_pos_terms' : affect_pos_terms, \\\n",
    "                  'moral_emo_terms' : moral_emo_terms}\n"
   ]
  },
  {
   "cell_type": "code",
   "execution_count": 338,
   "metadata": {},
   "outputs": [],
   "source": [
    "def count_terms(message):\n",
    "    \n",
    "    dem_count = len(re.findall(rf'\\b({democrat_terms})\\b', message, flags = re.IGNORECASE))\n",
    "    #rep_count = len(re.findall(rf'\\b({republican_terms})\\b', message, flags = re.IGNORECASE))\n",
    "    #neg_count = len(re.findall(rf'\\b({counting_dicts[\"affect_neg_terms\"]})\\b', message, flags = re.IGNORECASE))\n",
    "    #pos_count = len(re.findall(rf'\\b({counting_dicts[\"affect_pos_terms\"]})\\b', message, flags = re.IGNORECASE))\n",
    "    #affect_count = neg_count + pos_count\n",
    "    #moral_emo_count = len(re.findall(rf'\\b({counting_dicts[\"moral_emo_terms\"]})\\b', message, flags = re.IGNORECASE))\n",
    "    \n",
    "    return dem_count#, rep_count#, neg_count, pos_count, affect_count, moral_emo_count\n",
    "\n",
    "#Columns names list\n",
    "term_counts = ['dem_count']#, 'rep_count']#, 'neg_count', 'pos_count', 'affect_count', 'moral_emo_count']\n"
   ]
  },
  {
   "cell_type": "code",
   "execution_count": 263,
   "metadata": {},
   "outputs": [],
   "source": [
    "rep_house_min = rep_house[:100]"
   ]
  },
  {
   "cell_type": "code",
   "execution_count": 337,
   "metadata": {},
   "outputs": [
    {
     "data": {
      "text/plain": [
       "0     American families are paying $709 more for bas...\n",
       "1     ICYMI: This week I published an op-ed explaini...\n",
       "2     Interested in receiving weekly updates on my w...\n",
       "3     I often hear that immigrants should come into ...\n",
       "4     Delighted to participate in Ag Day at the Illi...\n",
       "                            ...                        \n",
       "95    Seen from the air just north of Miles City. St...\n",
       "96    I’ll be on Fox News Live at 12:10pm. Tune in, ...\n",
       "97    Please join me in prayer for the family, frien...\n",
       "98    Having spent three decades as a practicing OB/...\n",
       "99    House Republicans are the party of parents! We...\n",
       "Name: Message, Length: 100, dtype: object"
      ]
     },
     "execution_count": 337,
     "metadata": {},
     "output_type": "execute_result"
    }
   ],
   "source": [
    "rep_house_min.Message"
   ]
  },
  {
   "cell_type": "code",
   "execution_count": 339,
   "metadata": {},
   "outputs": [
    {
     "ename": "TypeError",
     "evalue": "expected string or bytes-like object",
     "output_type": "error",
     "traceback": [
      "\u001b[1;31m---------------------------------------------------------------------------\u001b[0m",
      "\u001b[1;31mTypeError\u001b[0m                                 Traceback (most recent call last)",
      "\u001b[1;32m~\\AppData\\Local\\Temp\\ipykernel_25356\\1101852592.py\u001b[0m in \u001b[0;36m<module>\u001b[1;34m\u001b[0m\n\u001b[1;32m----> 1\u001b[1;33m \u001b[0mrep_house_min\u001b[0m\u001b[1;33m[\u001b[0m\u001b[0mterm_counts\u001b[0m\u001b[1;33m]\u001b[0m \u001b[1;33m=\u001b[0m \u001b[0mrep_house_min\u001b[0m\u001b[1;33m[\u001b[0m\u001b[1;34m'Message'\u001b[0m\u001b[1;33m]\u001b[0m\u001b[1;33m.\u001b[0m\u001b[0mapply\u001b[0m\u001b[1;33m(\u001b[0m\u001b[1;32mlambda\u001b[0m \u001b[0mx\u001b[0m\u001b[1;33m:\u001b[0m \u001b[0mpd\u001b[0m\u001b[1;33m.\u001b[0m\u001b[0mSeries\u001b[0m\u001b[1;33m(\u001b[0m\u001b[0mcount_terms\u001b[0m\u001b[1;33m(\u001b[0m\u001b[0mx\u001b[0m\u001b[1;33m)\u001b[0m\u001b[1;33m)\u001b[0m\u001b[1;33m)\u001b[0m\u001b[1;33m\u001b[0m\u001b[1;33m\u001b[0m\u001b[0m\n\u001b[0m",
      "\u001b[1;32mc:\\Users\\agust\\anaconda3\\lib\\site-packages\\pandas\\core\\series.py\u001b[0m in \u001b[0;36mapply\u001b[1;34m(self, func, convert_dtype, args, **kwargs)\u001b[0m\n\u001b[0;32m   4431\u001b[0m         \u001b[0mdtype\u001b[0m\u001b[1;33m:\u001b[0m \u001b[0mfloat64\u001b[0m\u001b[1;33m\u001b[0m\u001b[1;33m\u001b[0m\u001b[0m\n\u001b[0;32m   4432\u001b[0m         \"\"\"\n\u001b[1;32m-> 4433\u001b[1;33m         \u001b[1;32mreturn\u001b[0m \u001b[0mSeriesApply\u001b[0m\u001b[1;33m(\u001b[0m\u001b[0mself\u001b[0m\u001b[1;33m,\u001b[0m \u001b[0mfunc\u001b[0m\u001b[1;33m,\u001b[0m \u001b[0mconvert_dtype\u001b[0m\u001b[1;33m,\u001b[0m \u001b[0margs\u001b[0m\u001b[1;33m,\u001b[0m \u001b[0mkwargs\u001b[0m\u001b[1;33m)\u001b[0m\u001b[1;33m.\u001b[0m\u001b[0mapply\u001b[0m\u001b[1;33m(\u001b[0m\u001b[1;33m)\u001b[0m\u001b[1;33m\u001b[0m\u001b[1;33m\u001b[0m\u001b[0m\n\u001b[0m\u001b[0;32m   4434\u001b[0m \u001b[1;33m\u001b[0m\u001b[0m\n\u001b[0;32m   4435\u001b[0m     def _reduce(\n",
      "\u001b[1;32mc:\\Users\\agust\\anaconda3\\lib\\site-packages\\pandas\\core\\apply.py\u001b[0m in \u001b[0;36mapply\u001b[1;34m(self)\u001b[0m\n\u001b[0;32m   1086\u001b[0m             \u001b[1;32mreturn\u001b[0m \u001b[0mself\u001b[0m\u001b[1;33m.\u001b[0m\u001b[0mapply_str\u001b[0m\u001b[1;33m(\u001b[0m\u001b[1;33m)\u001b[0m\u001b[1;33m\u001b[0m\u001b[1;33m\u001b[0m\u001b[0m\n\u001b[0;32m   1087\u001b[0m \u001b[1;33m\u001b[0m\u001b[0m\n\u001b[1;32m-> 1088\u001b[1;33m         \u001b[1;32mreturn\u001b[0m \u001b[0mself\u001b[0m\u001b[1;33m.\u001b[0m\u001b[0mapply_standard\u001b[0m\u001b[1;33m(\u001b[0m\u001b[1;33m)\u001b[0m\u001b[1;33m\u001b[0m\u001b[1;33m\u001b[0m\u001b[0m\n\u001b[0m\u001b[0;32m   1089\u001b[0m \u001b[1;33m\u001b[0m\u001b[0m\n\u001b[0;32m   1090\u001b[0m     \u001b[1;32mdef\u001b[0m \u001b[0magg\u001b[0m\u001b[1;33m(\u001b[0m\u001b[0mself\u001b[0m\u001b[1;33m)\u001b[0m\u001b[1;33m:\u001b[0m\u001b[1;33m\u001b[0m\u001b[1;33m\u001b[0m\u001b[0m\n",
      "\u001b[1;32mc:\\Users\\agust\\anaconda3\\lib\\site-packages\\pandas\\core\\apply.py\u001b[0m in \u001b[0;36mapply_standard\u001b[1;34m(self)\u001b[0m\n\u001b[0;32m   1141\u001b[0m                 \u001b[1;31m# List[Union[Callable[..., Any], str]]]]]\"; expected\u001b[0m\u001b[1;33m\u001b[0m\u001b[1;33m\u001b[0m\u001b[0m\n\u001b[0;32m   1142\u001b[0m                 \u001b[1;31m# \"Callable[[Any], Any]\"\u001b[0m\u001b[1;33m\u001b[0m\u001b[1;33m\u001b[0m\u001b[0m\n\u001b[1;32m-> 1143\u001b[1;33m                 mapped = lib.map_infer(\n\u001b[0m\u001b[0;32m   1144\u001b[0m                     \u001b[0mvalues\u001b[0m\u001b[1;33m,\u001b[0m\u001b[1;33m\u001b[0m\u001b[1;33m\u001b[0m\u001b[0m\n\u001b[0;32m   1145\u001b[0m                     \u001b[0mf\u001b[0m\u001b[1;33m,\u001b[0m  \u001b[1;31m# type: ignore[arg-type]\u001b[0m\u001b[1;33m\u001b[0m\u001b[1;33m\u001b[0m\u001b[0m\n",
      "\u001b[1;32mc:\\Users\\agust\\anaconda3\\lib\\site-packages\\pandas\\_libs\\lib.pyx\u001b[0m in \u001b[0;36mpandas._libs.lib.map_infer\u001b[1;34m()\u001b[0m\n",
      "\u001b[1;32m~\\AppData\\Local\\Temp\\ipykernel_25356\\1101852592.py\u001b[0m in \u001b[0;36m<lambda>\u001b[1;34m(x)\u001b[0m\n\u001b[1;32m----> 1\u001b[1;33m \u001b[0mrep_house_min\u001b[0m\u001b[1;33m[\u001b[0m\u001b[0mterm_counts\u001b[0m\u001b[1;33m]\u001b[0m \u001b[1;33m=\u001b[0m \u001b[0mrep_house_min\u001b[0m\u001b[1;33m[\u001b[0m\u001b[1;34m'Message'\u001b[0m\u001b[1;33m]\u001b[0m\u001b[1;33m.\u001b[0m\u001b[0mapply\u001b[0m\u001b[1;33m(\u001b[0m\u001b[1;32mlambda\u001b[0m \u001b[0mx\u001b[0m\u001b[1;33m:\u001b[0m \u001b[0mpd\u001b[0m\u001b[1;33m.\u001b[0m\u001b[0mSeries\u001b[0m\u001b[1;33m(\u001b[0m\u001b[0mcount_terms\u001b[0m\u001b[1;33m(\u001b[0m\u001b[0mx\u001b[0m\u001b[1;33m)\u001b[0m\u001b[1;33m)\u001b[0m\u001b[1;33m)\u001b[0m\u001b[1;33m\u001b[0m\u001b[1;33m\u001b[0m\u001b[0m\n\u001b[0m",
      "\u001b[1;32m~\\AppData\\Local\\Temp\\ipykernel_25356\\2512560391.py\u001b[0m in \u001b[0;36mcount_terms\u001b[1;34m(message)\u001b[0m\n\u001b[0;32m      1\u001b[0m \u001b[1;32mdef\u001b[0m \u001b[0mcount_terms\u001b[0m\u001b[1;33m(\u001b[0m\u001b[0mmessage\u001b[0m\u001b[1;33m)\u001b[0m\u001b[1;33m:\u001b[0m\u001b[1;33m\u001b[0m\u001b[1;33m\u001b[0m\u001b[0m\n\u001b[0;32m      2\u001b[0m \u001b[1;33m\u001b[0m\u001b[0m\n\u001b[1;32m----> 3\u001b[1;33m     \u001b[0mdem_count\u001b[0m \u001b[1;33m=\u001b[0m \u001b[0mlen\u001b[0m\u001b[1;33m(\u001b[0m\u001b[0mre\u001b[0m\u001b[1;33m.\u001b[0m\u001b[0mfindall\u001b[0m\u001b[1;33m(\u001b[0m\u001b[1;34mrf'\\b({democrat_terms})\\b'\u001b[0m\u001b[1;33m,\u001b[0m \u001b[0mmessage\u001b[0m\u001b[1;33m,\u001b[0m \u001b[0mflags\u001b[0m \u001b[1;33m=\u001b[0m \u001b[0mre\u001b[0m\u001b[1;33m.\u001b[0m\u001b[0mIGNORECASE\u001b[0m\u001b[1;33m)\u001b[0m\u001b[1;33m)\u001b[0m\u001b[1;33m\u001b[0m\u001b[1;33m\u001b[0m\u001b[0m\n\u001b[0m\u001b[0;32m      4\u001b[0m     \u001b[1;31m#rep_count = len(re.findall(rf'\\b({republican_terms})\\b', message, flags = re.IGNORECASE))\u001b[0m\u001b[1;33m\u001b[0m\u001b[1;33m\u001b[0m\u001b[0m\n\u001b[0;32m      5\u001b[0m     \u001b[1;31m#neg_count = len(re.findall(rf'\\b({counting_dicts[\"affect_neg_terms\"]})\\b', message, flags = re.IGNORECASE))\u001b[0m\u001b[1;33m\u001b[0m\u001b[1;33m\u001b[0m\u001b[0m\n",
      "\u001b[1;32mc:\\Users\\agust\\anaconda3\\lib\\re.py\u001b[0m in \u001b[0;36mfindall\u001b[1;34m(pattern, string, flags)\u001b[0m\n\u001b[0;32m    239\u001b[0m \u001b[1;33m\u001b[0m\u001b[0m\n\u001b[0;32m    240\u001b[0m     Empty matches are included in the result.\"\"\"\n\u001b[1;32m--> 241\u001b[1;33m     \u001b[1;32mreturn\u001b[0m \u001b[0m_compile\u001b[0m\u001b[1;33m(\u001b[0m\u001b[0mpattern\u001b[0m\u001b[1;33m,\u001b[0m \u001b[0mflags\u001b[0m\u001b[1;33m)\u001b[0m\u001b[1;33m.\u001b[0m\u001b[0mfindall\u001b[0m\u001b[1;33m(\u001b[0m\u001b[0mstring\u001b[0m\u001b[1;33m)\u001b[0m\u001b[1;33m\u001b[0m\u001b[1;33m\u001b[0m\u001b[0m\n\u001b[0m\u001b[0;32m    242\u001b[0m \u001b[1;33m\u001b[0m\u001b[0m\n\u001b[0;32m    243\u001b[0m \u001b[1;32mdef\u001b[0m \u001b[0mfinditer\u001b[0m\u001b[1;33m(\u001b[0m\u001b[0mpattern\u001b[0m\u001b[1;33m,\u001b[0m \u001b[0mstring\u001b[0m\u001b[1;33m,\u001b[0m \u001b[0mflags\u001b[0m\u001b[1;33m=\u001b[0m\u001b[1;36m0\u001b[0m\u001b[1;33m)\u001b[0m\u001b[1;33m:\u001b[0m\u001b[1;33m\u001b[0m\u001b[1;33m\u001b[0m\u001b[0m\n",
      "\u001b[1;31mTypeError\u001b[0m: expected string or bytes-like object"
     ]
    }
   ],
   "source": [
    "rep_house_min[term_counts] = rep_house_min['Message'].apply(lambda x: pd.Series(count_terms(x)))\n"
   ]
  }
 ],
 "metadata": {
  "kernelspec": {
   "display_name": "base",
   "language": "python",
   "name": "python3"
  },
  "language_info": {
   "codemirror_mode": {
    "name": "ipython",
    "version": 3
   },
   "file_extension": ".py",
   "mimetype": "text/x-python",
   "name": "python",
   "nbconvert_exporter": "python",
   "pygments_lexer": "ipython3",
   "version": "3.9.13"
  },
  "orig_nbformat": 4
 },
 "nbformat": 4,
 "nbformat_minor": 2
}
