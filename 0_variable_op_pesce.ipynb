{
 "cells": [
  {
   "cell_type": "markdown",
   "metadata": {},
   "source": [
    "## SMDA Final Project (01 - preprocessing) - Agustina Pesce"
   ]
  },
  {
   "cell_type": "markdown",
   "metadata": {},
   "source": [
    "The notebook has been set to run for replication without the calculation of the dictionaries count variables, which was the most time consumming process. However, the datasets outputed by implementing these dictionaries are imported in the notebook's final cell."
   ]
  },
  {
   "cell_type": "code",
   "execution_count": 109,
   "metadata": {},
   "outputs": [],
   "source": [
    "#Libraries \n",
    "\n",
    "#Dataframes use\n",
    "import pandas as pd\n",
    "import numpy as np\n",
    "\n",
    "#Object saving\n",
    "import pickle\n",
    "\n",
    "#Data visualization\n",
    "import matplotlib.pyplot as plt\n",
    "import matplotlib\n",
    "matplotlib.rcParams['font.sans-serif'] = \"Arial\"\n",
    "matplotlib.rcParams['font.family'] = \"sans-serif\"\n",
    "\n",
    "#Scraping of congress members names (now tables are imported from .csv file)\n",
    "#import requests\n",
    "#from bs4 import BeautifulSoup\n",
    "\n",
    "#Regular expressions for dictionary implementation\n",
    "import re\n",
    "\n",
    "#Performing text tokenization\n",
    "#import nltk\n",
    "#from nltk.corpus import stopwords\n",
    "\n",
    "#Track processing time with \".progress_apply\"\n",
    "from tqdm import tqdm\n",
    "tqdm.pandas()"
   ]
  },
  {
   "cell_type": "code",
   "execution_count": 110,
   "metadata": {},
   "outputs": [
    {
     "data": {
      "text/plain": [
       "'2.2.1'"
      ]
     },
     "execution_count": 110,
     "metadata": {},
     "output_type": "execute_result"
    }
   ],
   "source": [
    "re.__version__"
   ]
  },
  {
   "cell_type": "markdown",
   "metadata": {},
   "source": [
    "TEST of data retrieval format (before big data retrieval)"
   ]
  },
  {
   "cell_type": "code",
   "execution_count": 111,
   "metadata": {},
   "outputs": [],
   "source": [
    "#File import\n",
    "first_file = pd.read_csv('data_crowdt/2023-07-30-16-58-27-CEST-Historical-Report-USA-Media---SMDA-Project-2022-07-30--2023-07-30.csv')\n",
    "\n",
    "#Rename column with long name\n",
    "first_file = first_file.rename(columns={\"Overperforming Score (weighted  —  Likes 1x Shares 1x Comments 1x Love 1x Wow 1x Haha 1x Sad 1x Angry 1x Care 1x )\": \"Overperforming Score\"})"
   ]
  },
  {
   "cell_type": "code",
   "execution_count": 112,
   "metadata": {},
   "outputs": [
    {
     "name": "stdout",
     "output_type": "stream",
     "text": [
      "1000\n",
      "Index(['Page Name', 'User Name', 'Facebook Id', 'Page Category',\n",
      "       'Page Admin Top Country', 'Page Description', 'Page Created',\n",
      "       'Likes at Posting', 'Followers at Posting', 'Post Created',\n",
      "       'Post Created Date', 'Post Created Time', 'Type', 'Total Interactions',\n",
      "       'Likes', 'Comments', 'Shares', 'Love', 'Wow', 'Haha', 'Sad', 'Angry',\n",
      "       'Care', 'Video Share Status', 'Is Video Owner?', 'Post Views',\n",
      "       'Total Views', 'Total Views For All Crossposts', 'Video Length', 'URL',\n",
      "       'Message', 'Link', 'Final Link', 'Image Text', 'Link Text',\n",
      "       'Description', 'Sponsor Id', 'Sponsor Name', 'Sponsor Category',\n",
      "       'Overperforming Score'],\n",
      "      dtype='object')\n"
     ]
    },
    {
     "data": {
      "text/html": [
       "<div>\n",
       "<style scoped>\n",
       "    .dataframe tbody tr th:only-of-type {\n",
       "        vertical-align: middle;\n",
       "    }\n",
       "\n",
       "    .dataframe tbody tr th {\n",
       "        vertical-align: top;\n",
       "    }\n",
       "\n",
       "    .dataframe thead th {\n",
       "        text-align: right;\n",
       "    }\n",
       "</style>\n",
       "<table border=\"1\" class=\"dataframe\">\n",
       "  <thead>\n",
       "    <tr style=\"text-align: right;\">\n",
       "      <th></th>\n",
       "      <th>Page Name</th>\n",
       "      <th>User Name</th>\n",
       "      <th>Facebook Id</th>\n",
       "      <th>Page Category</th>\n",
       "      <th>Page Admin Top Country</th>\n",
       "      <th>Page Description</th>\n",
       "      <th>Page Created</th>\n",
       "      <th>Likes at Posting</th>\n",
       "      <th>Followers at Posting</th>\n",
       "      <th>Post Created</th>\n",
       "      <th>...</th>\n",
       "      <th>Message</th>\n",
       "      <th>Link</th>\n",
       "      <th>Final Link</th>\n",
       "      <th>Image Text</th>\n",
       "      <th>Link Text</th>\n",
       "      <th>Description</th>\n",
       "      <th>Sponsor Id</th>\n",
       "      <th>Sponsor Name</th>\n",
       "      <th>Sponsor Category</th>\n",
       "      <th>Overperforming Score</th>\n",
       "    </tr>\n",
       "  </thead>\n",
       "  <tbody>\n",
       "    <tr>\n",
       "      <th>0</th>\n",
       "      <td>The American Spectator</td>\n",
       "      <td>americanspectator</td>\n",
       "      <td>100064326234306</td>\n",
       "      <td>NEWS_SITE</td>\n",
       "      <td>US</td>\n",
       "      <td>Providing the wittiest conservative commentary...</td>\n",
       "      <td>2010-06-03 17:41:47</td>\n",
       "      <td>126933</td>\n",
       "      <td>125815</td>\n",
       "      <td>2023-07-30 14:00:50 CEST</td>\n",
       "      <td>...</td>\n",
       "      <td>DeSantis' campaign is headed for self-destruct...</td>\n",
       "      <td>https://spectator.org/the-desantis-campaign-ne...</td>\n",
       "      <td>http://spectator.org/the-desantis-campaign-nee...</td>\n",
       "      <td>NaN</td>\n",
       "      <td>The DeSantis Campaign Needs a Better Message -...</td>\n",
       "      <td>Ron DeSantis launched his presidential campaig...</td>\n",
       "      <td>NaN</td>\n",
       "      <td>NaN</td>\n",
       "      <td>NaN</td>\n",
       "      <td>-0.94</td>\n",
       "    </tr>\n",
       "    <tr>\n",
       "      <th>1</th>\n",
       "      <td>The American Spectator</td>\n",
       "      <td>americanspectator</td>\n",
       "      <td>100064326234306</td>\n",
       "      <td>NEWS_SITE</td>\n",
       "      <td>US</td>\n",
       "      <td>Providing the wittiest conservative commentary...</td>\n",
       "      <td>2010-06-03 17:41:47</td>\n",
       "      <td>126940</td>\n",
       "      <td>125807</td>\n",
       "      <td>2023-07-30 01:00:21 CEST</td>\n",
       "      <td>...</td>\n",
       "      <td>McCarthy talks about expunging Trump impeachme...</td>\n",
       "      <td>https://spectator.org/speaker-mccarthy-trump-a...</td>\n",
       "      <td>http://spectator.org/speaker-mccarthy-trump-an...</td>\n",
       "      <td>NaN</td>\n",
       "      <td>Speaker McCarthy, Trump, and the Andrew Jackso...</td>\n",
       "      <td>President Andrew Jackson’s enemies hated him. ...</td>\n",
       "      <td>NaN</td>\n",
       "      <td>NaN</td>\n",
       "      <td>NaN</td>\n",
       "      <td>-5.50</td>\n",
       "    </tr>\n",
       "    <tr>\n",
       "      <th>2</th>\n",
       "      <td>The American Spectator</td>\n",
       "      <td>americanspectator</td>\n",
       "      <td>100064326234306</td>\n",
       "      <td>NEWS_SITE</td>\n",
       "      <td>US</td>\n",
       "      <td>Providing the wittiest conservative commentary...</td>\n",
       "      <td>2010-06-03 17:41:47</td>\n",
       "      <td>126940</td>\n",
       "      <td>125807</td>\n",
       "      <td>2023-07-30 00:00:24 CEST</td>\n",
       "      <td>...</td>\n",
       "      <td>Listen to the latest episode of The Spectacle ...</td>\n",
       "      <td>https://spectator.org/the-spectacle-ep-37-bide...</td>\n",
       "      <td>http://spectator.org/the-spectacle-ep-37-biden...</td>\n",
       "      <td>NaN</td>\n",
       "      <td>The Spectacle Ep. 37: Biden: What a Paid-Off P...</td>\n",
       "      <td>What does it mean when the president of the Un...</td>\n",
       "      <td>NaN</td>\n",
       "      <td>NaN</td>\n",
       "      <td>NaN</td>\n",
       "      <td>-2.56</td>\n",
       "    </tr>\n",
       "  </tbody>\n",
       "</table>\n",
       "<p>3 rows × 40 columns</p>\n",
       "</div>"
      ],
      "text/plain": [
       "                Page Name          User Name      Facebook Id Page Category  \\\n",
       "0  The American Spectator  americanspectator  100064326234306     NEWS_SITE   \n",
       "1  The American Spectator  americanspectator  100064326234306     NEWS_SITE   \n",
       "2  The American Spectator  americanspectator  100064326234306     NEWS_SITE   \n",
       "\n",
       "  Page Admin Top Country                                   Page Description  \\\n",
       "0                     US  Providing the wittiest conservative commentary...   \n",
       "1                     US  Providing the wittiest conservative commentary...   \n",
       "2                     US  Providing the wittiest conservative commentary...   \n",
       "\n",
       "          Page Created  Likes at Posting  Followers at Posting  \\\n",
       "0  2010-06-03 17:41:47            126933                125815   \n",
       "1  2010-06-03 17:41:47            126940                125807   \n",
       "2  2010-06-03 17:41:47            126940                125807   \n",
       "\n",
       "               Post Created  ...  \\\n",
       "0  2023-07-30 14:00:50 CEST  ...   \n",
       "1  2023-07-30 01:00:21 CEST  ...   \n",
       "2  2023-07-30 00:00:24 CEST  ...   \n",
       "\n",
       "                                             Message  \\\n",
       "0  DeSantis' campaign is headed for self-destruct...   \n",
       "1  McCarthy talks about expunging Trump impeachme...   \n",
       "2  Listen to the latest episode of The Spectacle ...   \n",
       "\n",
       "                                                Link  \\\n",
       "0  https://spectator.org/the-desantis-campaign-ne...   \n",
       "1  https://spectator.org/speaker-mccarthy-trump-a...   \n",
       "2  https://spectator.org/the-spectacle-ep-37-bide...   \n",
       "\n",
       "                                          Final Link Image Text  \\\n",
       "0  http://spectator.org/the-desantis-campaign-nee...        NaN   \n",
       "1  http://spectator.org/speaker-mccarthy-trump-an...        NaN   \n",
       "2  http://spectator.org/the-spectacle-ep-37-biden...        NaN   \n",
       "\n",
       "                                           Link Text  \\\n",
       "0  The DeSantis Campaign Needs a Better Message -...   \n",
       "1  Speaker McCarthy, Trump, and the Andrew Jackso...   \n",
       "2  The Spectacle Ep. 37: Biden: What a Paid-Off P...   \n",
       "\n",
       "                                         Description  Sponsor Id  \\\n",
       "0  Ron DeSantis launched his presidential campaig...         NaN   \n",
       "1  President Andrew Jackson’s enemies hated him. ...         NaN   \n",
       "2  What does it mean when the president of the Un...         NaN   \n",
       "\n",
       "   Sponsor Name  Sponsor Category  Overperforming Score  \n",
       "0           NaN               NaN                 -0.94  \n",
       "1           NaN               NaN                 -5.50  \n",
       "2           NaN               NaN                 -2.56  \n",
       "\n",
       "[3 rows x 40 columns]"
      ]
     },
     "execution_count": 112,
     "metadata": {},
     "output_type": "execute_result"
    }
   ],
   "source": [
    "#Get df length, column names and preview\n",
    "print(len(first_file))\n",
    "print(first_file.columns)\n",
    "first_file.head(3)"
   ]
  },
  {
   "cell_type": "code",
   "execution_count": 113,
   "metadata": {},
   "outputs": [
    {
     "name": "stdout",
     "output_type": "stream",
     "text": [
      "americanspectator\n",
      "\n",
      "https://www.facebook.com/100064326234306/posts/666951255459076\n",
      "\n",
      "126933\n",
      "125815\n",
      "Link\n",
      "\n",
      "1\n",
      "0\n",
      "0\n",
      "1\n",
      "\n",
      "DeSantis' campaign is headed for self-destruction. \n",
      "\n"
     ]
    }
   ],
   "source": [
    "#Info on what columns mean:\n",
    "#https://help.crowdtangle.com/en/articles/3213537-crowdtangle-codebook\n",
    "\n",
    "#Page info\n",
    "#print(first_file['Page Name'][0])\n",
    "print(first_file['User Name'][0])\n",
    "#print(first_file['Page Category'][0]) #NEWS_SITE #Self-described\n",
    "print()\n",
    "\n",
    "#Post identifier\n",
    "print(first_file['URL'][0]) \n",
    "print()\n",
    "\n",
    "#Controls\n",
    "print(first_file['Likes at Posting'][0]) #Number #Can either like or follow pages\n",
    "print(first_file['Followers at Posting'][0]) #Number\n",
    "\n",
    "print(first_file['Type'][0]) #Link #think they used it as control\n",
    "#For Facebook this includes links, photo, native video, non-native video \n",
    "#(i.e. YouTube links), and live video\n",
    "#print(first_file['Link'][0]) #embeded link\n",
    "print()\n",
    "\n",
    "#Interactions\n",
    "print(first_file['Total Interactions'][0]) \n",
    "print(first_file['Likes'][0])\n",
    "print(first_file['Comments'][0]) #just comments to the post, not replies to these\n",
    "print(first_file['Shares'][0])   \n",
    "#print(first_file['Love'][0]) \n",
    "#print(first_file['Wow'][0]) \n",
    "#print(first_file['Haha'][0]) \n",
    "#print(first_file['Sad'][0]) \n",
    "#print(first_file['Angry'][0]) \n",
    "#print(first_file['Care'][0]) \n",
    "print()\n",
    "\n",
    "#Text\n",
    "print(first_file['Message'][0]) \n",
    "#print(first_file['Image Text'][0])\n",
    "#print(first_file['Link Text'][0])\n",
    "#print(first_file['Description'][0]) #??\n",
    "print()\n",
    "\n",
    "#Views #Apparently this are for native videos\n",
    "#print(first_file['Post Views'][0]) #Whats the difference??\n",
    "#print(first_file['Total Views'][0]) \n",
    "#print(first_file['Total Views For All Crossposts'][0]) \n",
    "#print()\n",
    "\n",
    "#Sponsor\n",
    "#print(first_file['Sponsor Category'][0])\n",
    "#print(first_file['Sponsor Category'][0]) \n",
    "#print()\n",
    "\n",
    "#Overperforming Score\n",
    "#The overperformance is computed relative to similar posts from the same page in similar \n",
    "#timeframes - high overperformance from a New York Times video posted in the last 15 minutes \n",
    "#would mean that the post got more interactions than previously posted New York Times videos in \n",
    "#their first 15 minutes of posting.\n",
    "#print(first_file['Overperforming Score'][0])\n"
   ]
  },
  {
   "cell_type": "markdown",
   "metadata": {},
   "source": [
    "#### Media accounts"
   ]
  },
  {
   "cell_type": "code",
   "execution_count": 114,
   "metadata": {},
   "outputs": [],
   "source": [
    "#User Name (in case later sorting is needed)\n",
    "vleft = [\"AlterNetNews\",\"TheAtlantic\",\"democracynow\",\"thedailybeast\",\"HuffPost\",\"theinterceptflm\", \\\n",
    "        \"jacobinmag\",\"motherjones\",\"msnbc\",\"newyorker\",\"nytimes\",\"thenationdaily\", \"Slate\",\"Vox\"]\n",
    "\n",
    "left = [\"ABCNews\",\"APNews\",\"axiosnews\",\"bloombergbusiness\",\"CBSNews\",\"cnn\",\"theguardian\",\"insider\",\\\n",
    "        \"NBCNews\",\"NPR\",\"politico\",\"propublica\",\"time\",\"washingtonpost\",\"usatoday\",\"yahoonews\"]\n",
    "\n",
    "vright = [\"The.American.Conservative\",\"americanspectator\",\"Breitbart\",\"TheBlaze\",\"cbnonline\",\\\n",
    "         \"DailyCaller\",\"DailyMail\",\"DailyWire\",\"FoxNews\",\"fdrlst\",\"theijr\",\"nationalreview\",\\\n",
    "         \"newsmax\",\"FreeBeacon\",\"OneAmericaNewsNetwork\"]\n",
    "         #No Facebook page for New York Post (Opinion) (vright)\n",
    "\n",
    "right = [\"thedispatchinc\",\"epochtimes\",\"FoxBusiness\",\"NYPost\",\"ThePostMillennial\",\"Reason.Magazine\",\\\n",
    "        \"WSJ\",\"WashingtonExaminer\",\"TheWashingtonTimes\"]"
   ]
  },
  {
   "cell_type": "code",
   "execution_count": 115,
   "metadata": {},
   "outputs": [
    {
     "name": "stdout",
     "output_type": "stream",
     "text": [
      "30\n",
      "24\n"
     ]
    }
   ],
   "source": [
    "left_media_user = vleft + left\n",
    "rigth_media_user = vright + right\n",
    "\n",
    "#Check for correspondence with CrowdTangle's numbers\n",
    "print(len(left_media_user))\n",
    "print(len(rigth_media_user))"
   ]
  },
  {
   "cell_type": "markdown",
   "metadata": {},
   "source": [
    "#### MEDIA data"
   ]
  },
  {
   "cell_type": "code",
   "execution_count": 116,
   "metadata": {},
   "outputs": [],
   "source": [
    "#Function to get a table and a graph with the distribution of posts per month\n",
    "def prepro_graph(ct_df, ymax, group_name: str, output: bool = True, graph: bool = False, figsize= (20, 6)):\n",
    "    'ct_df: crowdtangle df'\n",
    "\n",
    "    #Change long column name\n",
    "    ct_df = ct_df.rename(columns={\"Overperforming Score (weighted  —  Likes 1x Shares 1x Comments 1x Love 1x Wow 1x Haha 1x Sad 1x Angry 1x Care 1x )\": \"Overperforming Score\"})\n",
    "\n",
    "    #Create date column with year and month info (higher resolution not necessary)\n",
    "    ct_df[\"Date\"] = pd.to_datetime(ct_df[\"Post Created\"].apply(lambda x: x[:7]), format='%Y-%m')\n",
    "    \n",
    "    #Visualization of info\n",
    "    grouped_counts = ct_df[\"Date\"].groupby([ct_df[\"Date\"].dt.year, ct_df[\"Date\"].dt.month]).count()\n",
    "\n",
    "    if output == True:\n",
    "        print(\"Published posts per month\")\n",
    "        print(grouped_counts)\n",
    "\n",
    "    if graph == True:\n",
    "        fig, ax = plt.subplots(figsize= figsize)\n",
    "\n",
    "        #Change color depending on the inserted title\n",
    "        if re.search(\"Left|Democra|Lib\", group_name):\n",
    "            color = \"#36648B\"\n",
    "        else:\n",
    "            color = \"#B22222\"\n",
    "        \n",
    "        #Barplot\n",
    "        ax = grouped_counts.plot(kind= \"bar\", width= 0.8, color= color)\n",
    "\n",
    "        # Ticks\n",
    "        #Change axis tick size\n",
    "        ax.tick_params(axis='both', labelsize=9)\n",
    "        #Format x-axis tick labels to be MM-YY\n",
    "        tick_labels = [f\"{month:02d}-{str(year)[2:]}\" for year, month in grouped_counts.index] \n",
    "        ax.set_xticklabels(tick_labels, rotation=\"horizontal\")\n",
    "        #Adapt ymax for best visualization\n",
    "        ax.set_ylim(0, ymax)\n",
    "        \n",
    "        #Labeling\n",
    "        ax.set_title('Published posts for %s \\n (per month)' %group_name, pad=20, linespacing = 1.8)\n",
    "        ax.set_xlabel('Year and month', size= 11)\n",
    "        ax.set_ylabel('Posts number', size= 11)\n",
    "        ax.margins(y=0.1)\n",
    "\n",
    "        #Add aditional axis for better readability\n",
    "        y2 = ax.twinx()\n",
    "        y2.set_ylim(ax.get_ylim())\n",
    "        y2.tick_params(axis='both', labelsize=9)\n",
    "\n",
    "        #Format of preference for spines\n",
    "        ax.spines[['top']].set_visible(False)\n",
    "        y2.spines[['top']].set_visible(False)\n",
    "\n",
    "        fig.savefig(fname = \"graphs/\" + group_name + '.png', bbox_inches='tight')\n",
    "        fig.show()\n",
    "\n",
    "    return ct_df"
   ]
  },
  {
   "cell_type": "code",
   "execution_count": 117,
   "metadata": {},
   "outputs": [
    {
     "name": "stderr",
     "output_type": "stream",
     "text": [
      "C:\\Users\\agust\\AppData\\Local\\Temp\\ipykernel_22692\\2728099349.py:1: DtypeWarning: Columns (37,38,39) have mixed types. Specify dtype option on import or set low_memory=False.\n",
      "  left_mediafb = pd.read_csv('data_crowdt/2023-08-14-13-17-02-CEST-Historical-Report-USA-Media-Left---SMDA-Project-2020-08-06--2023-08-14.csv')\n"
     ]
    }
   ],
   "source": [
    "left_mediafb = pd.read_csv('data_crowdt/2023-08-14-13-17-02-CEST-Historical-Report-USA-Media-Left---SMDA-Project-2020-08-06--2023-08-14.csv')"
   ]
  },
  {
   "cell_type": "code",
   "execution_count": 118,
   "metadata": {},
   "outputs": [
    {
     "name": "stdout",
     "output_type": "stream",
     "text": [
      "300000\n"
     ]
    }
   ],
   "source": [
    "print(len(left_mediafb))"
   ]
  },
  {
   "cell_type": "code",
   "execution_count": 119,
   "metadata": {},
   "outputs": [
    {
     "name": "stdout",
     "output_type": "stream",
     "text": [
      "Published posts per month\n",
      "Date  Date\n",
      "2023  1       39209\n",
      "      2       38754\n",
      "      3       43461\n",
      "      4       38159\n",
      "      5       43261\n",
      "      6       40083\n",
      "      7       39687\n",
      "      8       17386\n",
      "Name: Date, dtype: int64\n"
     ]
    },
    {
     "name": "stderr",
     "output_type": "stream",
     "text": [
      "C:\\Users\\agust\\AppData\\Local\\Temp\\ipykernel_22692\\3380085468.py:55: UserWarning: Matplotlib is currently using module://matplotlib_inline.backend_inline, which is a non-GUI backend, so cannot show the figure.\n",
      "  fig.show()\n"
     ]
    },
    {
     "data": {
      "image/png": "[encoded data removed]",
      "text/plain": [
       "<Figure size 700x500 with 2 Axes>"
      ]
     },
     "metadata": {},
     "output_type": "display_data"
    }
   ],
   "source": [
    "left_mediafb = prepro_graph(left_mediafb, ymax = 51000, group_name = \"Liberal Media\", graph = True, figsize=(7,5))"
   ]
  },
  {
   "cell_type": "code",
   "execution_count": 120,
   "metadata": {},
   "outputs": [
    {
     "name": "stderr",
     "output_type": "stream",
     "text": [
      "C:\\Users\\agust\\AppData\\Local\\Temp\\ipykernel_22692\\3306290532.py:1: DtypeWarning: Columns (37,38,39) have mixed types. Specify dtype option on import or set low_memory=False.\n",
      "  right_mediafb = pd.read_csv('data_crowdt/2023-08-14-13-44-21-CEST-Historical-Report-USA-Media-Right---SMDA-Project-2020-08-06--2023-08-14.csv')\n"
     ]
    }
   ],
   "source": [
    "right_mediafb = pd.read_csv('data_crowdt/2023-08-14-13-44-21-CEST-Historical-Report-USA-Media-Right---SMDA-Project-2020-08-06--2023-08-14.csv')"
   ]
  },
  {
   "cell_type": "code",
   "execution_count": 121,
   "metadata": {},
   "outputs": [
    {
     "name": "stdout",
     "output_type": "stream",
     "text": [
      "300000\n"
     ]
    }
   ],
   "source": [
    "print(len(right_mediafb))"
   ]
  },
  {
   "cell_type": "code",
   "execution_count": 122,
   "metadata": {},
   "outputs": [
    {
     "name": "stdout",
     "output_type": "stream",
     "text": [
      "Published posts per month\n",
      "Date  Date\n",
      "2022  9        2734\n",
      "      10      28965\n",
      "      11      29096\n",
      "      12      28794\n",
      "2023  1       29502\n",
      "      2       26940\n",
      "      3       28262\n",
      "      4       28225\n",
      "      5       29639\n",
      "      6       28055\n",
      "      7       27878\n",
      "      8       11910\n",
      "Name: Date, dtype: int64\n"
     ]
    },
    {
     "name": "stderr",
     "output_type": "stream",
     "text": [
      "C:\\Users\\agust\\AppData\\Local\\Temp\\ipykernel_22692\\3380085468.py:55: UserWarning: Matplotlib is currently using module://matplotlib_inline.backend_inline, which is a non-GUI backend, so cannot show the figure.\n",
      "  fig.show()\n"
     ]
    },
    {
     "data": {
      "image/png": "[encoded data removed]",
      "text/plain": [
       "<Figure size 700x500 with 2 Axes>"
      ]
     },
     "metadata": {},
     "output_type": "display_data"
    }
   ],
   "source": [
    "right_mediafb = prepro_graph(right_mediafb, ymax = 31000, group_name=\"Conservative Media\", graph = True, figsize=(7,5))"
   ]
  },
  {
   "cell_type": "markdown",
   "metadata": {},
   "source": [
    "CONGRESS data"
   ]
  },
  {
   "cell_type": "code",
   "execution_count": 123,
   "metadata": {},
   "outputs": [
    {
     "name": "stderr",
     "output_type": "stream",
     "text": [
      "C:\\Users\\agust\\AppData\\Local\\Temp\\ipykernel_22692\\1017912044.py:1: DtypeWarning: Columns (37,38,39) have mixed types. Specify dtype option on import or set low_memory=False.\n",
      "  dem_house = pd.read_csv('data_crowdt/2023-08-14-18-42-12-CEST-Historical-Report-US-House-Democrats-2020-07-02--2023-08-13.csv')\n"
     ]
    }
   ],
   "source": [
    "dem_house = pd.read_csv('data_crowdt/2023-08-14-18-42-12-CEST-Historical-Report-US-House-Democrats-2020-07-02--2023-08-13.csv')"
   ]
  },
  {
   "cell_type": "code",
   "execution_count": 124,
   "metadata": {},
   "outputs": [
    {
     "name": "stderr",
     "output_type": "stream",
     "text": [
      "C:\\Users\\agust\\AppData\\Local\\Temp\\ipykernel_22692\\3380085468.py:55: UserWarning: Matplotlib is currently using module://matplotlib_inline.backend_inline, which is a non-GUI backend, so cannot show the figure.\n",
      "  fig.show()\n"
     ]
    },
    {
     "data": {
      "image/png": "[encoded data removed]",
      "text/plain": [
       "<Figure size 2000x600 with 2 Axes>"
      ]
     },
     "metadata": {},
     "output_type": "display_data"
    }
   ],
   "source": [
    "dem_house = prepro_graph(dem_house, ymax = 10500, group_name=\"House Democrats\", output = False, graph = True)"
   ]
  },
  {
   "cell_type": "code",
   "execution_count": 125,
   "metadata": {},
   "outputs": [
    {
     "name": "stderr",
     "output_type": "stream",
     "text": [
      "C:\\Users\\agust\\AppData\\Local\\Temp\\ipykernel_22692\\2242937096.py:1: DtypeWarning: Columns (37,38,39) have mixed types. Specify dtype option on import or set low_memory=False.\n",
      "  dem_senate = pd.read_csv('data_crowdt/2023-08-14-18-08-59-CEST-Historical-Report-US-Senate-Democrats-2020-07-02--2023-08-13.csv')\n"
     ]
    }
   ],
   "source": [
    "dem_senate = pd.read_csv('data_crowdt/2023-08-14-18-08-59-CEST-Historical-Report-US-Senate-Democrats-2020-07-02--2023-08-13.csv')"
   ]
  },
  {
   "cell_type": "code",
   "execution_count": 126,
   "metadata": {},
   "outputs": [
    {
     "name": "stderr",
     "output_type": "stream",
     "text": [
      "C:\\Users\\agust\\AppData\\Local\\Temp\\ipykernel_22692\\3380085468.py:55: UserWarning: Matplotlib is currently using module://matplotlib_inline.backend_inline, which is a non-GUI backend, so cannot show the figure.\n",
      "  fig.show()\n"
     ]
    },
    {
     "data": {
      "image/png": "[encoded data removed]",
      "text/plain": [
       "<Figure size 2000x600 with 2 Axes>"
      ]
     },
     "metadata": {},
     "output_type": "display_data"
    }
   ],
   "source": [
    "dem_senate = prepro_graph(dem_senate, ymax =3600, group_name=\"Senate Democrats\", output = False, graph = True)"
   ]
  },
  {
   "cell_type": "code",
   "execution_count": 127,
   "metadata": {},
   "outputs": [
    {
     "name": "stderr",
     "output_type": "stream",
     "text": [
      "C:\\Users\\agust\\AppData\\Local\\Temp\\ipykernel_22692\\2348071244.py:1: DtypeWarning: Columns (37,38,39) have mixed types. Specify dtype option on import or set low_memory=False.\n",
      "  rep_house = pd.read_csv('data_crowdt/2023-08-14-18-33-49-CEST-Historical-Report-US-House-Republicans-2020-07-02--2023-08-13.csv')\n"
     ]
    }
   ],
   "source": [
    "rep_house = pd.read_csv('data_crowdt/2023-08-14-18-33-49-CEST-Historical-Report-US-House-Republicans-2020-07-02--2023-08-13.csv')"
   ]
  },
  {
   "cell_type": "code",
   "execution_count": 128,
   "metadata": {},
   "outputs": [
    {
     "name": "stderr",
     "output_type": "stream",
     "text": [
      "C:\\Users\\agust\\AppData\\Local\\Temp\\ipykernel_22692\\3380085468.py:55: UserWarning: Matplotlib is currently using module://matplotlib_inline.backend_inline, which is a non-GUI backend, so cannot show the figure.\n",
      "  fig.show()\n"
     ]
    },
    {
     "data": {
      "image/png": "[encoded data removed]",
      "text/plain": [
       "<Figure size 2000x600 with 2 Axes>"
      ]
     },
     "metadata": {},
     "output_type": "display_data"
    }
   ],
   "source": [
    "rep_house = prepro_graph(rep_house, ymax = 8100,group_name=\"House Republicans\", output = False, graph = True)"
   ]
  },
  {
   "cell_type": "code",
   "execution_count": 129,
   "metadata": {},
   "outputs": [],
   "source": [
    "rep_senate = pd.read_csv('data_crowdt/2023-08-14-17-56-44-CEST-Historical-Report-US-Senate-Republicans-2020-07-02--2023-08-13.csv')"
   ]
  },
  {
   "cell_type": "code",
   "execution_count": 130,
   "metadata": {},
   "outputs": [
    {
     "name": "stderr",
     "output_type": "stream",
     "text": [
      "C:\\Users\\agust\\AppData\\Local\\Temp\\ipykernel_22692\\3380085468.py:55: UserWarning: Matplotlib is currently using module://matplotlib_inline.backend_inline, which is a non-GUI backend, so cannot show the figure.\n",
      "  fig.show()\n"
     ]
    },
    {
     "data": {
      "image/png": "[encoded data removed]",
      "text/plain": [
       "<Figure size 2000x600 with 2 Axes>"
      ]
     },
     "metadata": {},
     "output_type": "display_data"
    }
   ],
   "source": [
    "rep_senate = prepro_graph(rep_senate, ymax = 3100,group_name=\"Senate Republicans\", output = False, graph = True)"
   ]
  },
  {
   "cell_type": "code",
   "execution_count": 131,
   "metadata": {},
   "outputs": [
    {
     "name": "stdout",
     "output_type": "stream",
     "text": [
      "Number of posts for retrieved congress data\n",
      "\n",
      "US House Democrats:  257506\n",
      "US Senate Democrats:  93600\n",
      "US Democrats:  351106\n",
      "\n",
      "US House Republicans:  211320\n",
      "US Senate Republicans:  75232\n",
      "US Republicans:  286552\n",
      "\n",
      "------------------------------------------------------------\n",
      "Original paper and replication differences\n",
      "\n",
      "Original Paper (Republicans - Democrats):  91740\n",
      "Replication (Democrats - Republicans):  64554\n",
      "\n",
      "Original Paper (tot):  825424\n",
      "Replication (tot):  637658\n",
      "N difference:  187766\n"
     ]
    }
   ],
   "source": [
    "print(\"Number of posts for retrieved congress data\") \n",
    "\n",
    "print()\n",
    "print(\"US House Democrats: \", len(dem_house))\n",
    "print(\"US Senate Democrats: \", len(dem_senate))\n",
    "dem_len = len(dem_house) + len(dem_senate)\n",
    "print(\"US Democrats: \", dem_len)\n",
    "\n",
    "print()\n",
    "print(\"US House Republicans: \", len(rep_house))\n",
    "print(\"US Senate Republicans: \", len(rep_senate))\n",
    "rep_len = len(rep_house) + len(rep_senate)\n",
    "print(\"US Republicans: \", rep_len)\n",
    "print()\n",
    "\n",
    "dash = '-' * 60\n",
    "print(dash)\n",
    "print(\"Original paper and replication differences\")\n",
    "\n",
    "print()\n",
    "print(\"Original Paper (Republicans - Democrats): \", 458582 - 366842)\n",
    "print(\"Replication (Democrats - Republicans): \", dem_len - rep_len)\n",
    "\n",
    "print()\n",
    "print(\"Original Paper (tot): \", 458582 + 366842)\n",
    "print(\"Replication (tot): \", dem_len + rep_len)\n",
    "print(\"N difference: \", 458582 + 366842 - dem_len - rep_len)\n"
   ]
  },
  {
   "cell_type": "code",
   "execution_count": 132,
   "metadata": {},
   "outputs": [],
   "source": [
    "#House and Senate differences aren't of interest dfs merge\n",
    "dem_congress = pd.concat([dem_house, dem_senate], ignore_index=True)\n",
    "rep_congress = pd.concat([rep_house, rep_senate], ignore_index=True)"
   ]
  },
  {
   "cell_type": "code",
   "execution_count": 201,
   "metadata": {},
   "outputs": [
    {
     "name": "stderr",
     "output_type": "stream",
     "text": [
      "C:\\Users\\agust\\AppData\\Local\\Temp\\ipykernel_22692\\3380085468.py:55: UserWarning: Matplotlib is currently using module://matplotlib_inline.backend_inline, which is a non-GUI backend, so cannot show the figure.\n",
      "  fig.show()\n"
     ]
    },
    {
     "data": {
      "image/png": "[encoded data removed]",
      "text/plain": [
       "<Figure size 2000x600 with 2 Axes>"
      ]
     },
     "metadata": {},
     "output_type": "display_data"
    }
   ],
   "source": [
    "dems = prepro_graph(dem_congress, ymax = 14600, group_name=\"Democrat congress\", output = False, graph = True)"
   ]
  },
  {
   "cell_type": "code",
   "execution_count": 208,
   "metadata": {},
   "outputs": [
    {
     "name": "stderr",
     "output_type": "stream",
     "text": [
      "C:\\Users\\agust\\AppData\\Local\\Temp\\ipykernel_22692\\3380085468.py:55: UserWarning: Matplotlib is currently using module://matplotlib_inline.backend_inline, which is a non-GUI backend, so cannot show the figure.\n",
      "  fig.show()\n"
     ]
    },
    {
     "data": {
      "image/png": "[encoded data removed]",
      "text/plain": [
       "<Figure size 2000x600 with 2 Axes>"
      ]
     },
     "metadata": {},
     "output_type": "display_data"
    }
   ],
   "source": [
    "reps = prepro_graph(rep_congress, ymax = 10500, group_name=\"Republican congress\", output = False, graph = True)"
   ]
  },
  {
   "cell_type": "markdown",
   "metadata": {},
   "source": [
    "DICTIONARIES"
   ]
  },
  {
   "cell_type": "markdown",
   "metadata": {},
   "source": [
    "Scraped current congress members"
   ]
  },
  {
   "cell_type": "code",
   "execution_count": 133,
   "metadata": {},
   "outputs": [],
   "source": [
    "#congress_link = \"https://ballotpedia.org/List_of_current_members_of_the_U.S._Congress\"\n",
    "#header = {\"user-agent\": \"Mozilla/5.0 (Windows NT 10.0; Win64; x64) AppleWebKit/537.36 (KHTML, like Gecko) Chrome/107.0.0.0 Safari/537.36\"}\n",
    "\n",
    "##Scrape it with requests and make it easier to handle with Beautifulsoup\n",
    "#congress_get = requests.get(congress_link, headers = header)\n",
    "#congress_soup = BeautifulSoup(congress_get.content, 'html.parser') \n",
    "#print(congress_soup.prettify())"
   ]
  },
  {
   "cell_type": "code",
   "execution_count": 134,
   "metadata": {},
   "outputs": [],
   "source": [
    "#table = pd.read_html(congress_get.text)\n",
    "#df_senate = table[3] #List of current U.S. Senate members\n",
    "#df_house = table[6] #List of current U.S. House members"
   ]
  },
  {
   "cell_type": "code",
   "execution_count": 135,
   "metadata": {},
   "outputs": [],
   "source": [
    "#Export tables\n",
    "\n",
    "#df_senate.to_pickle(\"dictionaries/118th_senate\")\n",
    "#df_house.to_pickle(\"dictionaries/118th_house\")"
   ]
  },
  {
   "cell_type": "code",
   "execution_count": 136,
   "metadata": {},
   "outputs": [
    {
     "data": {
      "text/plain": [
       "Index(['Office', 'Name', 'Party'], dtype='object')"
      ]
     },
     "execution_count": 136,
     "metadata": {},
     "output_type": "execute_result"
    }
   ],
   "source": [
    "#DF with Name and Party of congress members\n",
    "df_senate = pd.read_pickle(\"dictionaries/118th_senate\")\n",
    "df_house = pd.read_pickle(\"dictionaries/118th_house\")\n",
    "df_house.columns"
   ]
  },
  {
   "cell_type": "code",
   "execution_count": 137,
   "metadata": {},
   "outputs": [],
   "source": [
    "# Make lists of congress members for each party and add an\n",
    "# additional entry for members with middle initial. \n",
    "# Is useful to append names without middle initial because this many times not written.\n",
    "\n",
    "def retrieve_members(df):\n",
    "    names = df.Name.to_list()\n",
    "    parties = df.Party.to_list()\n",
    "\n",
    "    rep = []\n",
    "    dem = []\n",
    "    for i, party in enumerate(parties):\n",
    "        if party == \"Republican\":\n",
    "            rep.append(names[i])\n",
    "        if party == \"Democratic\":\n",
    "            dem.append(names[i])\n",
    "\n",
    "    pattern =  r\" [A-Z]. \"\n",
    "    for member in rep:\n",
    "        if re.search(pattern, member):\n",
    "            rep.append(re.sub(' [A-Z]. ', ' ', member))\n",
    "    \n",
    "    for member in dem:\n",
    "        if re.search(pattern, member):\n",
    "            dem.append(re.sub(' [A-Z]. ', ' ', member))\n",
    "\n",
    "    return rep, dem\n"
   ]
  },
  {
   "cell_type": "code",
   "execution_count": 138,
   "metadata": {},
   "outputs": [],
   "source": [
    "#Get list of congress members for each legislative body and party \n",
    "senate_rep, senate_dem = retrieve_members(df_senate)\n",
    "house_rep, house_dem = retrieve_members(df_house)\n",
    "\n",
    "#Merge both bodies\n",
    "congress_rep = senate_rep + house_rep\n",
    "congress_dem = senate_dem + house_dem\n"
   ]
  },
  {
   "cell_type": "markdown",
   "metadata": {},
   "source": [
    "Import previous congress members"
   ]
  },
  {
   "cell_type": "code",
   "execution_count": 139,
   "metadata": {},
   "outputs": [],
   "source": [
    "with open(\"dictionaries/DemocratCongressFB.txt\") as fle:\n",
    "    #Filter empty strings\n",
    "    prev_congress_dem0 = list(filter(None, fle.read().split('\\n')))\n",
    "\n",
    "with open(\"dictionaries/RepublicansCongressFB.txt\") as fle:\n",
    "    #Filter empty strings\n",
    "    prev_congress_rep0 = list(filter(None, fle.read().split('\\n')))"
   ]
  },
  {
   "cell_type": "code",
   "execution_count": 140,
   "metadata": {},
   "outputs": [],
   "source": [
    "#\\xa0 removed (nonbreaking space for FB links)\n",
    "prev_congress_dem = [re.sub(r\"\\xa0\", \" \", i) for i in prev_congress_dem0]\n",
    "prev_congress_rep = [re.sub(r\"\\xa0\", \" \", i) for i in prev_congress_rep0]"
   ]
  },
  {
   "cell_type": "markdown",
   "metadata": {},
   "source": [
    "Updated 100 most famous"
   ]
  },
  {
   "cell_type": "code",
   "execution_count": 141,
   "metadata": {},
   "outputs": [],
   "source": [
    "#Updated manually by looking which personalities werent in the list already and adding their FB accounts too\n",
    "#scrapping for this task wasnt succesful because they page had a dynamic table\n",
    "\n",
    "#Import, make a list with split and erase empty strings\n",
    "with open(\"dictionaries/MostFamousDemocratsFacebook-Repl.txt\") as fle:\n",
    "    #Filter empty strings\n",
    "    famous_dem = list(filter(None, fle.read().split('\\n')))\n",
    "\n",
    "with open(\"dictionaries/MostFamousRepublicansFacebook-Repl.txt\") as fle:\n",
    "    #Filter empty strings\n",
    "    famous_rep = list(filter(None, fle.read().split('\\n')))"
   ]
  },
  {
   "cell_type": "code",
   "execution_count": 142,
   "metadata": {},
   "outputs": [
    {
     "name": "stdout",
     "output_type": "stream",
     "text": [
      "183\n",
      "209\n"
     ]
    }
   ],
   "source": [
    "print(len(famous_rep))\n",
    "print(len(famous_dem))\n"
   ]
  },
  {
   "cell_type": "markdown",
   "metadata": {},
   "source": [
    "Import identity files (vocatives and words that refer to both parties)"
   ]
  },
  {
   "cell_type": "code",
   "execution_count": 143,
   "metadata": {},
   "outputs": [],
   "source": [
    "#Import and make a list with split\n",
    "with open(\"dictionaries/ConservativeIdentity-Repl.txt\") as fle:\n",
    "    ConservativeIdentity = fle.read().split('\\n')\n",
    "\n",
    "with open(\"dictionaries/LiberalIdentity-Repl.txt\") as fle:\n",
    "    LiberalIdentity = fle.read().split('\\n')\n"
   ]
  },
  {
   "cell_type": "code",
   "execution_count": 144,
   "metadata": {},
   "outputs": [],
   "source": [
    "#ConservativeIdentity\n",
    "#LiberalIdentity"
   ]
  },
  {
   "cell_type": "markdown",
   "metadata": {},
   "source": [
    "Join lists of congress members, famous politicians and identity references"
   ]
  },
  {
   "cell_type": "code",
   "execution_count": 145,
   "metadata": {},
   "outputs": [],
   "source": [
    "#Since these two dictionaries will be merged with dictionaries that have names\n",
    "#words that can't be extended are marked with a \\b (word boundary) at the end\n",
    "for i, word in enumerate(LiberalIdentity):\n",
    "    if word[-1] != \"*\":\n",
    "        LiberalIdentity[i] = word + \"\\\\b\"\n",
    "\n",
    "for i, word in enumerate(ConservativeIdentity):\n",
    "    if word[-1] != \"*\":\n",
    "        ConservativeIdentity[i] = word + \"\\\\b\""
   ]
  },
  {
   "cell_type": "code",
   "execution_count": 146,
   "metadata": {},
   "outputs": [
    {
     "name": "stdout",
     "output_type": "stream",
     "text": [
      "1078\n",
      "775\n",
      "\n",
      "1024\n",
      "746\n"
     ]
    }
   ],
   "source": [
    "#Current congress members, previous congress members, famous representatives and ideological identities\n",
    "democrats_dict0 = congress_dem + prev_congress_dem + famous_dem + LiberalIdentity\n",
    "republicans_dict0 = congress_rep + prev_congress_rep + famous_rep + ConservativeIdentity\n",
    "\n",
    "#Remove duplicates (e.g. congress members that are also famous or previous that are current)\n",
    "democrats_dict = list(set(democrats_dict0))\n",
    "republicans_dict = list(set(republicans_dict0))\n",
    "\n",
    "print(len(democrats_dict0))\n",
    "print(len(democrats_dict))\n",
    "print()\n",
    "print(len(republicans_dict0))\n",
    "print(len(republicans_dict))"
   ]
  },
  {
   "cell_type": "markdown",
   "metadata": {},
   "source": [
    "Erase meronymes for faster processing (using dictionary methods \"Greg Pence\" also finds \"U.S. Representative Greg Pence\")"
   ]
  },
  {
   "cell_type": "code",
   "execution_count": 147,
   "metadata": {},
   "outputs": [],
   "source": [
    "def avoid_meronymy(string_list):\n",
    "    #order list by length from short to long\n",
    "    string_list.sort(key=lambda s: len(s), reverse = False)\n",
    "    out = []\n",
    "    \n",
    "    #Check if a (longer) string is already contained in the new list\n",
    "    for s in string_list:\n",
    "        if not any([o in s for o in out]):\n",
    "            out.append(s)\n",
    "            \n",
    "    return out"
   ]
  },
  {
   "cell_type": "code",
   "execution_count": 148,
   "metadata": {},
   "outputs": [
    {
     "data": {
      "text/plain": [
       "['rest', 'look', 'hamlet']"
      ]
     },
     "execution_count": 148,
     "metadata": {},
     "output_type": "execute_result"
    }
   ],
   "source": [
    "#function check\n",
    "ls = ['resting', 'looking','rest', 'look', 'hamlet']\n",
    "avoid_meronymy(ls)"
   ]
  },
  {
   "cell_type": "code",
   "execution_count": 149,
   "metadata": {},
   "outputs": [],
   "source": [
    "#Erase holonymes, final democrats and republicans references\n",
    "dem_ref = avoid_meronymy(democrats_dict)\n",
    "rep_ref = avoid_meronymy(republicans_dict)"
   ]
  },
  {
   "cell_type": "code",
   "execution_count": 150,
   "metadata": {},
   "outputs": [
    {
     "name": "stdout",
     "output_type": "stream",
     "text": [
      "564\n",
      "547\n"
     ]
    }
   ],
   "source": [
    "print(len(dem_ref))\n",
    "print(len(rep_ref))"
   ]
  },
  {
   "cell_type": "markdown",
   "metadata": {},
   "source": [
    "Positive affect dictionary"
   ]
  },
  {
   "cell_type": "code",
   "execution_count": 151,
   "metadata": {},
   "outputs": [],
   "source": [
    "with open(\"dictionaries/Affect_neg.txt\") as fle:\n",
    "    affect_neg_dict = fle.read().split('\\n')"
   ]
  },
  {
   "cell_type": "code",
   "execution_count": 152,
   "metadata": {},
   "outputs": [],
   "source": [
    "#affect_neg_dict"
   ]
  },
  {
   "cell_type": "markdown",
   "metadata": {},
   "source": [
    "Negative affect dictionary"
   ]
  },
  {
   "cell_type": "code",
   "execution_count": 153,
   "metadata": {},
   "outputs": [],
   "source": [
    "with open(\"dictionaries/Affect_pos.txt\") as fle:\n",
    "    affect_pos_dict = fle.read().split('\\n')"
   ]
  },
  {
   "cell_type": "code",
   "execution_count": 154,
   "metadata": {},
   "outputs": [],
   "source": [
    "#affect_pos_dict"
   ]
  },
  {
   "cell_type": "markdown",
   "metadata": {},
   "source": [
    "Moral-emotional dictionary"
   ]
  },
  {
   "cell_type": "code",
   "execution_count": 155,
   "metadata": {},
   "outputs": [],
   "source": [
    "with open(\"dictionaries/MoralEmotional-Repl.txt\") as fle:\n",
    "    moral_emo_dict = fle.read().split('\\n')"
   ]
  },
  {
   "cell_type": "code",
   "execution_count": 156,
   "metadata": {},
   "outputs": [],
   "source": [
    "#moral_emo_dict"
   ]
  },
  {
   "cell_type": "code",
   "execution_count": 157,
   "metadata": {},
   "outputs": [],
   "source": [
    "#Consolidation of all dicts as list for easier sharing\n",
    "counting_dicts = {'democrat_terms' : dem_ref, 'republican_terms' : rep_ref, \\\n",
    "                  'affect_neg_terms' : affect_neg_dict, 'affect_pos_terms' : affect_pos_dict, \\\n",
    "                  'moral_emo_terms' : moral_emo_dict}\n",
    "\n",
    "#Export for share\n",
    "with open('dictionaries/all_dicts.pickle', 'wb') as handle:\n",
    "    pickle.dump(counting_dicts, handle, protocol=pickle.HIGHEST_PROTOCOL)\n",
    "\n",
    "#with open('dictionaries/all_dicts.pickle', 'rb') as handle:\n",
    "#    counting_dicts2 = pickle.load(handle)"
   ]
  },
  {
   "cell_type": "markdown",
   "metadata": {},
   "source": [
    "TEST. Creating word count variables with the dictionaries"
   ]
  },
  {
   "cell_type": "code",
   "execution_count": 158,
   "metadata": {},
   "outputs": [],
   "source": [
    "test_df = pd.DataFrame({'Message': [\"sara and sara mccarty are sad and hap py\", 'my life happy']})\n",
    "#count check\n",
    "#meronymy behavoir check"
   ]
  },
  {
   "cell_type": "code",
   "execution_count": 159,
   "metadata": {},
   "outputs": [],
   "source": [
    "name_emotion_dicts = {'names': ['John', 'Sara', 'Sara mccarty', 'David', 'Emily'], \\\n",
    "                      'emotions': ['happy', 'sad']}\n",
    "\n",
    "#Make lists a useful string for regex\n",
    "names = '|'.join(name_emotion_dicts['names'])\n",
    "emotions = '|'.join(name_emotion_dicts['emotions'])"
   ]
  },
  {
   "cell_type": "code",
   "execution_count": 160,
   "metadata": {},
   "outputs": [],
   "source": [
    "def count_names_emotions(message):\n",
    "        \n",
    "    name_count = len(re.findall(rf'\\b({names})\\b', message, flags = re.IGNORECASE))\n",
    "    emotion_count = len(re.findall(rf'\\b({emotions})\\b', message, flags = re.IGNORECASE))\n",
    "    \n",
    "    return name_count, emotion_count"
   ]
  },
  {
   "cell_type": "code",
   "execution_count": 161,
   "metadata": {},
   "outputs": [],
   "source": [
    "count_cols_test = ['name_count', 'emotion_count']\n",
    "test_df[count_cols_test] = test_df['Message'].apply(lambda x: pd.Series(count_names_emotions(x)))\n"
   ]
  },
  {
   "cell_type": "code",
   "execution_count": 162,
   "metadata": {},
   "outputs": [
    {
     "data": {
      "text/html": [
       "<div>\n",
       "<style scoped>\n",
       "    .dataframe tbody tr th:only-of-type {\n",
       "        vertical-align: middle;\n",
       "    }\n",
       "\n",
       "    .dataframe tbody tr th {\n",
       "        vertical-align: top;\n",
       "    }\n",
       "\n",
       "    .dataframe thead th {\n",
       "        text-align: right;\n",
       "    }\n",
       "</style>\n",
       "<table border=\"1\" class=\"dataframe\">\n",
       "  <thead>\n",
       "    <tr style=\"text-align: right;\">\n",
       "      <th></th>\n",
       "      <th>Message</th>\n",
       "      <th>name_count</th>\n",
       "      <th>emotion_count</th>\n",
       "    </tr>\n",
       "  </thead>\n",
       "  <tbody>\n",
       "    <tr>\n",
       "      <th>0</th>\n",
       "      <td>sara and sara mccarty are sad and hap py</td>\n",
       "      <td>2</td>\n",
       "      <td>1</td>\n",
       "    </tr>\n",
       "    <tr>\n",
       "      <th>1</th>\n",
       "      <td>my life happy</td>\n",
       "      <td>0</td>\n",
       "      <td>1</td>\n",
       "    </tr>\n",
       "  </tbody>\n",
       "</table>\n",
       "</div>"
      ],
      "text/plain": [
       "                                    Message  name_count  emotion_count\n",
       "0  sara and sara mccarty are sad and hap py           2              1\n",
       "1                             my life happy           0              1"
      ]
     },
     "execution_count": 162,
     "metadata": {},
     "output_type": "execute_result"
    }
   ],
   "source": [
    "test_df"
   ]
  },
  {
   "cell_type": "markdown",
   "metadata": {},
   "source": [
    "TEST. Use tokenization for word count. <br>\n",
    "As it was first performed with regex and no additional benefit was found for tokenization <br>\n",
    "(e.g. names with more than one word are better detected wiht regex), regex was used."
   ]
  },
  {
   "cell_type": "code",
   "execution_count": 163,
   "metadata": {},
   "outputs": [],
   "source": [
    "#nltk.download('punkt')"
   ]
  },
  {
   "cell_type": "code",
   "execution_count": 164,
   "metadata": {},
   "outputs": [],
   "source": [
    "# stop_words = stopwords.words('english')\n",
    "\n",
    "# # clean the input, tokenize, lowercase, remove special characters, \n",
    "# # punctuation marks, stopwords, apply stemmer\n",
    "\n",
    "# def tokenizer(str_input):\n",
    "#     if isinstance(str_input, str):\n",
    "#         words = nltk.word_tokenize(str_input)\n",
    "        \n",
    "#         filtered_sentence = []\n",
    "#         for w in words: \n",
    "#             w = w.lower() \n",
    "#             if w.isalnum(): #remove all punctuation marks, and words with punctuation (e.g. URLs)\n",
    "#               if w not in stop_words: \n",
    "#                     filtered_sentence.append(w) \n",
    "#     else:\n",
    "#         filtered_sentence = []\n",
    "                \n",
    "#     return filtered_sentence"
   ]
  },
  {
   "cell_type": "code",
   "execution_count": 165,
   "metadata": {},
   "outputs": [],
   "source": [
    "#tokenizer(rep_house_min[\"Message\"][0])"
   ]
  },
  {
   "cell_type": "code",
   "execution_count": 166,
   "metadata": {},
   "outputs": [],
   "source": [
    "#tokenizer(rep_house['Message'][211315])"
   ]
  },
  {
   "cell_type": "code",
   "execution_count": 167,
   "metadata": {},
   "outputs": [],
   "source": [
    "#rep_house_min[\"tokens\"] = rep_house_min[\"Message\"].apply(lambda x: tokenizer(x))"
   ]
  },
  {
   "cell_type": "code",
   "execution_count": 168,
   "metadata": {},
   "outputs": [],
   "source": [
    "# def count_emotional_words(tokenized_sentence, emotional_words):\n",
    "    \n",
    "#     # Use list comprehension to check for matches\n",
    "#     matches = [pattern.match(token) for token in tokenized_sentence for pattern in emotional_words]\n",
    "    \n",
    "#     # Count the non-None matches\n",
    "#     count = sum(1 for match in matches if match is not None)\n",
    "    \n",
    "#     return count"
   ]
  },
  {
   "cell_type": "markdown",
   "metadata": {},
   "source": [
    "Creating word count variables with the dictionaries"
   ]
  },
  {
   "cell_type": "code",
   "execution_count": 169,
   "metadata": {},
   "outputs": [],
   "source": [
    "#Joining of dicts as strings and change for correct regex with Python\n",
    "# * symbol is used for 0 or more repetitions of the singular preceding letter or symbol\n",
    "# \\w* symbol accounts for any alphanumeric character\n",
    "democrat_terms   = '|'.join(dem_ref).replace(r'*', r'\\w*')\n",
    "republican_terms = '|'.join(rep_ref).replace(r'*', r'\\w*')\n",
    "affect_neg_terms = '|'.join(affect_neg_dict).replace(r'*', r'\\w*')\n",
    "affect_pos_terms = '|'.join(affect_pos_dict).replace(r'*', r'\\w*')\n",
    "moral_emo_terms  = '|'.join(moral_emo_dict).replace(r'*', r'\\w*')"
   ]
  },
  {
   "cell_type": "code",
   "execution_count": 170,
   "metadata": {},
   "outputs": [],
   "source": [
    "def count_terms(message, print_words = False):\n",
    "\n",
    "    #NaN values of the message occur, for example, when only a photo is uploaded\n",
    "    if isinstance(message, str):\n",
    "        #No word bound \\b used for democrat and republican terms since these are sometimes\n",
    "        #used as part of mocking terms (e.g. \"Bidenomics\")\n",
    "        dem = re.findall(r'\\b(' + democrat_terms + r')', message, flags = re.IGNORECASE)\n",
    "        rep = re.findall(r'\\b(' + republican_terms + r')', message, flags = re.IGNORECASE)\n",
    "        neg = re.findall(r'\\b(' + affect_neg_terms + r')\\b', message, flags = re.IGNORECASE)\n",
    "        pos = re.findall(r'\\b(' + affect_pos_terms + r')\\b', message, flags = re.IGNORECASE)\n",
    "        moral_emo = re.findall(r'\\b(' + moral_emo_terms + r')\\b', message, flags = re.IGNORECASE)\n",
    "\n",
    "        dem_count = len(dem)\n",
    "        rep_count = len(rep)\n",
    "        neg_count = len(neg)\n",
    "        pos_count = len(pos)\n",
    "        affect_count = neg_count + pos_count\n",
    "        moral_emo_count = len(moral_emo)\n",
    "\n",
    "        if print_words == True:\n",
    "            print(\"Democrat terms: \", dem)\n",
    "            print(\"Republican terms: \", rep)\n",
    "            print(\"Negative affect terms: \", neg)\n",
    "            print(\"Positive affect terms: \", pos)\n",
    "            print(\"Moral emotional terms: \", moral_emo)\n",
    "\n",
    "    #When no message is written variables are set to 0\n",
    "    else:\n",
    "        dem_count, rep_count, neg_count, pos_count, affect_count, moral_emo_count = 0, 0, 0, 0, 0, 0\n",
    "        \n",
    "    return dem_count, rep_count, neg_count, pos_count, affect_count, moral_emo_count\n"
   ]
  },
  {
   "cell_type": "code",
   "execution_count": 171,
   "metadata": {},
   "outputs": [],
   "source": [
    "#rep_house_min['Message'][0]\n",
    "m = 'American families are paying $709 more for basic household Repub goods than they did two years ago. That’s Bidenomics at work Trump Biden.'"
   ]
  },
  {
   "cell_type": "code",
   "execution_count": 172,
   "metadata": {},
   "outputs": [
    {
     "name": "stdout",
     "output_type": "stream",
     "text": [
      "Democrat terms:  ['Biden', 'Biden']\n",
      "Republican terms:  ['Repub', 'Trump']\n",
      "Negative affect terms:  []\n",
      "Positive affect terms:  []\n",
      "Moral emotional terms:  []\n"
     ]
    },
    {
     "data": {
      "text/plain": [
       "(2, 2, 0, 0, 0, 0)"
      ]
     },
     "execution_count": 172,
     "metadata": {},
     "output_type": "execute_result"
    }
   ],
   "source": [
    "count_terms(m, True)"
   ]
  },
  {
   "cell_type": "markdown",
   "metadata": {},
   "source": [
    "Check function with a small dataset"
   ]
  },
  {
   "cell_type": "code",
   "execution_count": 173,
   "metadata": {},
   "outputs": [
    {
     "name": "stdout",
     "output_type": "stream",
     "text": [
      "Important reminder if you’re traveling with critters.\n",
      "Democrat terms:  []\n",
      "Republican terms:  []\n",
      "Negative affect terms:  []\n",
      "Positive affect terms:  ['Important']\n",
      "Moral emotional terms:  []\n",
      "(0, 0, 0, 1, 1, 0)\n",
      "My heart and prayers go out to the families who lost their loved ones in the Maui wildfires. To the first responders - Thank you, for your courage, dedication and commitment and @POTUS for providing federal resources. Please continue to follow evacuation orders and stay safe.\n",
      "Democrat terms:  []\n",
      "Republican terms:  []\n",
      "Negative affect terms:  ['lost']\n",
      "Positive affect terms:  ['loved', 'Thank', 'courage', 'commitment', 'Please', 'safe']\n",
      "Moral emotional terms:  ['safe']\n",
      "(0, 0, 1, 6, 7, 1)\n",
      "These never-ending reports about the Supreme Court justices’ ethics violations (and terrible, extreme decisions) have led many of us, including me, to lose faith in the Supreme Court. We need enforceable ethical standards, accountability, and structural reform in the Court.\n",
      "Democrat terms:  []\n",
      "Republican terms:  []\n",
      "Negative affect terms:  ['violations', 'terrible', 'lose']\n",
      "Positive affect terms:  ['Supreme', 'faith', 'Supreme']\n",
      "Moral emotional terms:  ['faith']\n",
      "(0, 0, 3, 3, 6, 1)\n",
      "Dallas resident Cris's mailbox was knocked down two years ago. After his countless inquiries were never resolved, Cris turned to Rep. Allred for help. Rep. Allred reached out to the United States Postal Service, and Cris quickly received a new mailbox. \n",
      "Democrat terms:  []\n",
      "Republican terms:  []\n",
      "Negative affect terms:  []\n",
      "Positive affect terms:  ['resolved']\n",
      "Moral emotional terms:  []\n",
      "(0, 0, 0, 1, 1, 0)\n",
      "More natural disaster emergency assistance: on housing by the U.S. Department of Housing and Urban Development (HUD) thru the FHA and housing counseling agencies. More here: https://www.hud.gov/press/press_releases_media_advisories/HUD_No_23_169:=:https://www.hud.gov/press/press_releases_media_advisories/hud_no_23_169\n",
      "Democrat terms:  []\n",
      "Republican terms:  []\n",
      "Negative affect terms:  []\n",
      "Positive affect terms:  []\n",
      "Moral emotional terms:  []\n",
      "(0, 0, 0, 0, 0, 0)\n",
      "Commemorating the 41st Annual National Dominican Day celebration recognizing contributions of Dominicans and Dominican Americans in distinctive fields throughout the world! #DominicanHeritage with the Honorable @luisabinader @GovKathyHochul @SenSchumer @repbowman @newyorkstateag @NattiNatasha and more! 🇩🇴\n",
      "Democrat terms:  []\n",
      "Republican terms:  []\n",
      "Negative affect terms:  []\n",
      "Positive affect terms:  ['Honorable']\n",
      "Moral emotional terms:  ['Honorable']\n",
      "(0, 0, 0, 1, 1, 1)\n",
      "Great to spend part of Sunday checking out the #JacksonHeights Greenmarket. Nice to see all the local and fresh produce and talk with constituents shopping for fruits, vegetables and other healthy food.\n",
      "Democrat terms:  []\n",
      "Republican terms:  []\n",
      "Negative affect terms:  []\n",
      "Positive affect terms:  ['Great', 'Nice']\n",
      "Moral emotional terms:  []\n",
      "(0, 0, 0, 2, 2, 0)\n",
      "FUNDING ALERT🚨 As the former Representative of Madera and Merced counties, I am pleased to share that federal funding I secured is headed to Madera and Merced Sheriffs' Offices. This funding will bolster their ability to quickly obtain accurate analysis, identify victims' remains, and relieve the backlog in crime laboratories.\n",
      "Democrat terms:  []\n",
      "Republican terms:  []\n",
      "Negative affect terms:  ['victims']\n",
      "Positive affect terms:  ['pleased', 'share', 'secured', 'relieve']\n",
      "Moral emotional terms:  ['secured', 'victims']\n",
      "(0, 0, 1, 4, 5, 2)\n",
      "I introduced the Protecting U.S. Farmland and Sensitive Sites From Foreign Adversaries Act to provide investigators with additional tools to look into suspicious land purchases around national security sites. Protecting food security and family farmers are a key part of protecting national security. My bill would increase the ability to investigate land purchased near military bases, national security sites and other critical infrastructure.\n",
      "Democrat terms:  []\n",
      "Republican terms:  []\n",
      "Negative affect terms:  ['suspicious']\n",
      "Positive affect terms:  ['security', 'security', 'security', 'security']\n",
      "Moral emotional terms:  ['security', 'security', 'security', 'security']\n",
      "(0, 0, 1, 4, 5, 4)\n",
      "Always excited to take on a new role for Hire Dr. Schrier! Recently, I worked at the box office at Village Theatre for the KIDSTAGE SummerStock performance of The Prom. I had a blast selling tickets and talking to constituents. I was even able to catch some of the show!\n",
      "Democrat terms:  []\n",
      "Republican terms:  []\n",
      "Negative affect terms:  []\n",
      "Positive affect terms:  ['excited']\n",
      "Moral emotional terms:  []\n",
      "(0, 0, 0, 1, 1, 0)\n"
     ]
    }
   ],
   "source": [
    "#Check common outputs for a sample of posts (also done for the different type of pages)\n",
    "dem_con_min = dem_congress[:100]\n",
    "for i in range(20, 30):\n",
    "    print(dem_con_min[\"Message\"][i])\n",
    "    print(count_terms(dem_con_min[\"Message\"][i], print_words = True))"
   ]
  },
  {
   "cell_type": "code",
   "execution_count": 174,
   "metadata": {},
   "outputs": [],
   "source": [
    "rep_house_min = rep_house[:100]"
   ]
  },
  {
   "cell_type": "code",
   "execution_count": 175,
   "metadata": {},
   "outputs": [
    {
     "name": "stdout",
     "output_type": "stream",
     "text": [
      "Congratulations to the Hutchinson Monarchs, who made history Saturday night when they defeated the Santa Barbara Foresters to win the National Baseball Congress World Series Championship! This is the first NBCWS championship in the team’s history. Go Monarchs!\n",
      "Democrat terms:  []\n",
      "Republican terms:  []\n",
      "Negative affect terms:  []\n",
      "Positive affect terms:  ['win', 'Championship', 'championship']\n",
      "Moral emotional terms:  []\n",
      "(0, 0, 0, 3, 3, 0)\n",
      "Join me in wishing my incredible wife, Erika, a very happy birthday! I’m blessed to have such a supportive, loving, and devoted wife by my side every step of the way. She’s the greatest mom to our three boys, a leader in our community, and the best partner. I love you! 🎂🎉\n",
      "Democrat terms:  []\n",
      "Republican terms:  []\n",
      "Negative affect terms:  []\n",
      "Positive affect terms:  ['happy', 'blessed', 'supportive', 'loving', 'devoted', 'best', 'love']\n",
      "Moral emotional terms:  ['devoted']\n",
      "(0, 0, 0, 7, 7, 1)\n",
      "Today we remember and honor Opha May Johnson. On this day in 1918, Sergeant Johnson became the first woman to enlist in the Marine Corps. Thank you for your trailblazing service Sgt. Johnson!\n",
      "Democrat terms:  []\n",
      "Republican terms:  []\n",
      "Negative affect terms:  []\n",
      "Positive affect terms:  ['honor', 'Thank']\n",
      "Moral emotional terms:  ['honor']\n",
      "(0, 0, 0, 2, 2, 1)\n",
      "🚨#TN03 veterans! Tomorrow, at 11:59pm, is the deadline to apply for retroactive PACT Act benefits. If you were exposed to Agent Orange, burn pits, or other toxic substances, you are entitled to VA health care and benefits. Visit the link below to learn more and apply! ⬇\n",
      "Democrat terms:  []\n",
      "Republican terms:  []\n",
      "Negative affect terms:  []\n",
      "Positive affect terms:  ['benefits', 'care', 'benefits']\n",
      "Moral emotional terms:  ['benefits', 'care', 'benefits']\n",
      "(0, 0, 0, 3, 3, 3)\n",
      "Reminder: If you’re even considering international travel, do not delay applying for or renewing your passport. Processing times for expedited service are 7-9 weeks and routine service is 10-13 weeks. Do not delay, apply today:\n",
      "Democrat terms:  []\n",
      "Republican terms:  []\n",
      "Negative affect terms:  []\n",
      "Positive affect terms:  []\n",
      "Moral emotional terms:  []\n",
      "(0, 0, 0, 0, 0, 0)\n",
      "🚨Hoy a las 12pm con Ambrosio Hernandez!\n",
      "Democrat terms:  []\n",
      "Republican terms:  []\n",
      "Negative affect terms:  []\n",
      "Positive affect terms:  []\n",
      "Moral emotional terms:  []\n",
      "(0, 0, 0, 0, 0, 0)\n",
      "I don’t agree with Pelosi that you have to pass a bill to find out what’s in it. No more sneaking things past the American people. When I became Speaker, I changed the House Rules so that everyone can actually read any legislation at least 72 hours before a vote takes place.\n",
      "Democrat terms:  ['Pelosi']\n",
      "Republican terms:  []\n",
      "Negative affect terms:  []\n",
      "Positive affect terms:  ['agree']\n",
      "Moral emotional terms:  []\n",
      "(1, 0, 0, 1, 1, 0)\n",
      "As your Representative in Congress, I am committed to upholding your values and fighting for the issues that matter most to you. Don’t miss this week’s update on my work serving #TX25. Subscribe to my e-newsletter below! https://williams.house.gov/contact/newsletter-subscribe\n",
      "Democrat terms:  []\n",
      "Republican terms:  []\n",
      "Negative affect terms:  ['fighting', 'miss']\n",
      "Positive affect terms:  ['values']\n",
      "Moral emotional terms:  ['values', 'fighting']\n",
      "(0, 0, 2, 1, 3, 2)\n",
      "Between gas prices and grocery bills, President Biden’s tap dance around truth never fooled us. It’s clear that reducing inflation was never a priority.\n",
      "Democrat terms:  ['Biden']\n",
      "Republican terms:  []\n",
      "Negative affect terms:  ['fooled']\n",
      "Positive affect terms:  ['truth']\n",
      "Moral emotional terms:  []\n",
      "(1, 0, 1, 1, 2, 0)\n",
      "House Republicans are delivering #RESULTS for the American people. We passed bills that would: ✅ Unleash American energy dominance ✅ Secure our borders ✅ Return power to parents ✅ Give our Servicemembers a pay raise. ✅ Fully funded veterans' health care and benefits fully funded veterans' health care and benefits\n",
      "Democrat terms:  []\n",
      "Republican terms:  ['Republicans']\n",
      "Negative affect terms:  []\n",
      "Positive affect terms:  ['energy', 'Secure', 'care', 'benefits', 'care', 'benefits']\n",
      "Moral emotional terms:  ['Secure', 'care', 'benefits', 'care', 'benefits']\n",
      "(0, 1, 0, 6, 6, 5)\n"
     ]
    }
   ],
   "source": [
    "#Check common outputs for a sample of posts (also done for the different type of pages)\n",
    "for i in range(30, 40):\n",
    "    print(rep_house_min[\"Message\"][i])\n",
    "    print(count_terms(rep_house_min[\"Message\"][i], print_words = True))"
   ]
  },
  {
   "cell_type": "code",
   "execution_count": 176,
   "metadata": {},
   "outputs": [],
   "source": [
    "#Columns names list\n",
    "count_cols = ['dem_count', 'rep_count', 'neg_count', 'pos_count', 'affect_count', 'moral_emo_count']\n",
    "\n",
    "#Copy to avoid original df problems\n",
    "rep_house_min_results = rep_house_min.copy()\n",
    "rep_house_min_results[count_cols] = rep_house_min['Message'].apply(lambda x: pd.Series(count_terms(str(x))))"
   ]
  },
  {
   "cell_type": "code",
   "execution_count": 177,
   "metadata": {},
   "outputs": [
    {
     "data": {
      "text/html": [
       "<div>\n",
       "<style scoped>\n",
       "    .dataframe tbody tr th:only-of-type {\n",
       "        vertical-align: middle;\n",
       "    }\n",
       "\n",
       "    .dataframe tbody tr th {\n",
       "        vertical-align: top;\n",
       "    }\n",
       "\n",
       "    .dataframe thead th {\n",
       "        text-align: right;\n",
       "    }\n",
       "</style>\n",
       "<table border=\"1\" class=\"dataframe\">\n",
       "  <thead>\n",
       "    <tr style=\"text-align: right;\">\n",
       "      <th></th>\n",
       "      <th>dem_count</th>\n",
       "      <th>rep_count</th>\n",
       "      <th>neg_count</th>\n",
       "      <th>pos_count</th>\n",
       "      <th>affect_count</th>\n",
       "      <th>moral_emo_count</th>\n",
       "    </tr>\n",
       "  </thead>\n",
       "  <tbody>\n",
       "    <tr>\n",
       "      <th>0</th>\n",
       "      <td>1</td>\n",
       "      <td>0</td>\n",
       "      <td>0</td>\n",
       "      <td>0</td>\n",
       "      <td>0</td>\n",
       "      <td>0</td>\n",
       "    </tr>\n",
       "    <tr>\n",
       "      <th>1</th>\n",
       "      <td>0</td>\n",
       "      <td>1</td>\n",
       "      <td>0</td>\n",
       "      <td>1</td>\n",
       "      <td>1</td>\n",
       "      <td>0</td>\n",
       "    </tr>\n",
       "    <tr>\n",
       "      <th>2</th>\n",
       "      <td>0</td>\n",
       "      <td>0</td>\n",
       "      <td>0</td>\n",
       "      <td>1</td>\n",
       "      <td>1</td>\n",
       "      <td>0</td>\n",
       "    </tr>\n",
       "    <tr>\n",
       "      <th>3</th>\n",
       "      <td>0</td>\n",
       "      <td>0</td>\n",
       "      <td>0</td>\n",
       "      <td>2</td>\n",
       "      <td>2</td>\n",
       "      <td>0</td>\n",
       "    </tr>\n",
       "    <tr>\n",
       "      <th>4</th>\n",
       "      <td>0</td>\n",
       "      <td>0</td>\n",
       "      <td>1</td>\n",
       "      <td>4</td>\n",
       "      <td>5</td>\n",
       "      <td>2</td>\n",
       "    </tr>\n",
       "    <tr>\n",
       "      <th>...</th>\n",
       "      <td>...</td>\n",
       "      <td>...</td>\n",
       "      <td>...</td>\n",
       "      <td>...</td>\n",
       "      <td>...</td>\n",
       "      <td>...</td>\n",
       "    </tr>\n",
       "    <tr>\n",
       "      <th>95</th>\n",
       "      <td>0</td>\n",
       "      <td>0</td>\n",
       "      <td>0</td>\n",
       "      <td>6</td>\n",
       "      <td>6</td>\n",
       "      <td>0</td>\n",
       "    </tr>\n",
       "    <tr>\n",
       "      <th>96</th>\n",
       "      <td>2</td>\n",
       "      <td>1</td>\n",
       "      <td>2</td>\n",
       "      <td>0</td>\n",
       "      <td>2</td>\n",
       "      <td>0</td>\n",
       "    </tr>\n",
       "    <tr>\n",
       "      <th>97</th>\n",
       "      <td>0</td>\n",
       "      <td>0</td>\n",
       "      <td>2</td>\n",
       "      <td>7</td>\n",
       "      <td>9</td>\n",
       "      <td>2</td>\n",
       "    </tr>\n",
       "    <tr>\n",
       "      <th>98</th>\n",
       "      <td>0</td>\n",
       "      <td>0</td>\n",
       "      <td>0</td>\n",
       "      <td>3</td>\n",
       "      <td>3</td>\n",
       "      <td>1</td>\n",
       "    </tr>\n",
       "    <tr>\n",
       "      <th>99</th>\n",
       "      <td>0</td>\n",
       "      <td>1</td>\n",
       "      <td>1</td>\n",
       "      <td>2</td>\n",
       "      <td>3</td>\n",
       "      <td>3</td>\n",
       "    </tr>\n",
       "  </tbody>\n",
       "</table>\n",
       "<p>100 rows × 6 columns</p>\n",
       "</div>"
      ],
      "text/plain": [
       "    dem_count  rep_count  neg_count  pos_count  affect_count  moral_emo_count\n",
       "0           1          0          0          0             0                0\n",
       "1           0          1          0          1             1                0\n",
       "2           0          0          0          1             1                0\n",
       "3           0          0          0          2             2                0\n",
       "4           0          0          1          4             5                2\n",
       "..        ...        ...        ...        ...           ...              ...\n",
       "95          0          0          0          6             6                0\n",
       "96          2          1          2          0             2                0\n",
       "97          0          0          2          7             9                2\n",
       "98          0          0          0          3             3                1\n",
       "99          0          1          1          2             3                3\n",
       "\n",
       "[100 rows x 6 columns]"
      ]
     },
     "execution_count": 177,
     "metadata": {},
     "output_type": "execute_result"
    }
   ],
   "source": [
    "rep_house_min_results[count_cols] "
   ]
  },
  {
   "cell_type": "code",
   "execution_count": 178,
   "metadata": {},
   "outputs": [
    {
     "data": {
      "text/html": [
       "<div>\n",
       "<style scoped>\n",
       "    .dataframe tbody tr th:only-of-type {\n",
       "        vertical-align: middle;\n",
       "    }\n",
       "\n",
       "    .dataframe tbody tr th {\n",
       "        vertical-align: top;\n",
       "    }\n",
       "\n",
       "    .dataframe thead th {\n",
       "        text-align: right;\n",
       "    }\n",
       "</style>\n",
       "<table border=\"1\" class=\"dataframe\">\n",
       "  <thead>\n",
       "    <tr style=\"text-align: right;\">\n",
       "      <th></th>\n",
       "      <th>Page Name</th>\n",
       "      <th>User Name</th>\n",
       "      <th>Facebook Id</th>\n",
       "      <th>Page Category</th>\n",
       "      <th>Page Admin Top Country</th>\n",
       "      <th>Page Description</th>\n",
       "      <th>Page Created</th>\n",
       "      <th>Likes at Posting</th>\n",
       "      <th>Followers at Posting</th>\n",
       "      <th>Post Created</th>\n",
       "      <th>...</th>\n",
       "      <th>Sponsor Name</th>\n",
       "      <th>Sponsor Category</th>\n",
       "      <th>Overperforming Score</th>\n",
       "      <th>Date</th>\n",
       "      <th>dem_count</th>\n",
       "      <th>rep_count</th>\n",
       "      <th>neg_count</th>\n",
       "      <th>pos_count</th>\n",
       "      <th>affect_count</th>\n",
       "      <th>moral_emo_count</th>\n",
       "    </tr>\n",
       "  </thead>\n",
       "  <tbody>\n",
       "    <tr>\n",
       "      <th>0</th>\n",
       "      <td>Rep. Randy Feenstra</td>\n",
       "      <td>RepFeenstra</td>\n",
       "      <td>100064273982108</td>\n",
       "      <td>GOVERNMENT_OFFICIAL</td>\n",
       "      <td>US</td>\n",
       "      <td>Delivering results for the people of Iowa's 4t...</td>\n",
       "      <td>2021-01-02 15:41:50</td>\n",
       "      <td>3499.0</td>\n",
       "      <td>3801.0</td>\n",
       "      <td>2023-08-13 23:49:32 CEST</td>\n",
       "      <td>...</td>\n",
       "      <td>NaN</td>\n",
       "      <td>NaN</td>\n",
       "      <td>-1.17</td>\n",
       "      <td>2023-08-01</td>\n",
       "      <td>1</td>\n",
       "      <td>0</td>\n",
       "      <td>0</td>\n",
       "      <td>0</td>\n",
       "      <td>0</td>\n",
       "      <td>0</td>\n",
       "    </tr>\n",
       "    <tr>\n",
       "      <th>1</th>\n",
       "      <td>Congressman Greg Murphy, MD</td>\n",
       "      <td>RepGregMurphy</td>\n",
       "      <td>100050504288805</td>\n",
       "      <td>POLITICIAN</td>\n",
       "      <td>US</td>\n",
       "      <td>Proudly representing the people of the Third C...</td>\n",
       "      <td>2015-12-20 01:15:36</td>\n",
       "      <td>19907.0</td>\n",
       "      <td>21343.0</td>\n",
       "      <td>2023-08-13 23:10:55 CEST</td>\n",
       "      <td>...</td>\n",
       "      <td>NaN</td>\n",
       "      <td>NaN</td>\n",
       "      <td>-2.46</td>\n",
       "      <td>2023-08-01</td>\n",
       "      <td>0</td>\n",
       "      <td>1</td>\n",
       "      <td>0</td>\n",
       "      <td>1</td>\n",
       "      <td>1</td>\n",
       "      <td>0</td>\n",
       "    </tr>\n",
       "    <tr>\n",
       "      <th>2</th>\n",
       "      <td>Congresswoman Beth Van Duyne</td>\n",
       "      <td>RepBethVanDuyne</td>\n",
       "      <td>100063516888699</td>\n",
       "      <td>GOVERNMENT_OFFICIAL</td>\n",
       "      <td>US</td>\n",
       "      <td>Proudly representing North Texas. American by ...</td>\n",
       "      <td>2020-12-17 19:03:26</td>\n",
       "      <td>7194.0</td>\n",
       "      <td>7582.0</td>\n",
       "      <td>2023-08-13 23:08:00 CEST</td>\n",
       "      <td>...</td>\n",
       "      <td>NaN</td>\n",
       "      <td>NaN</td>\n",
       "      <td>-2.83</td>\n",
       "      <td>2023-08-01</td>\n",
       "      <td>0</td>\n",
       "      <td>0</td>\n",
       "      <td>0</td>\n",
       "      <td>1</td>\n",
       "      <td>1</td>\n",
       "      <td>0</td>\n",
       "    </tr>\n",
       "  </tbody>\n",
       "</table>\n",
       "<p>3 rows × 47 columns</p>\n",
       "</div>"
      ],
      "text/plain": [
       "                      Page Name        User Name      Facebook Id  \\\n",
       "0           Rep. Randy Feenstra      RepFeenstra  100064273982108   \n",
       "1   Congressman Greg Murphy, MD    RepGregMurphy  100050504288805   \n",
       "2  Congresswoman Beth Van Duyne  RepBethVanDuyne  100063516888699   \n",
       "\n",
       "         Page Category Page Admin Top Country  \\\n",
       "0  GOVERNMENT_OFFICIAL                     US   \n",
       "1           POLITICIAN                     US   \n",
       "2  GOVERNMENT_OFFICIAL                     US   \n",
       "\n",
       "                                    Page Description         Page Created  \\\n",
       "0  Delivering results for the people of Iowa's 4t...  2021-01-02 15:41:50   \n",
       "1  Proudly representing the people of the Third C...  2015-12-20 01:15:36   \n",
       "2  Proudly representing North Texas. American by ...  2020-12-17 19:03:26   \n",
       "\n",
       "   Likes at Posting  Followers at Posting              Post Created  ...  \\\n",
       "0            3499.0                3801.0  2023-08-13 23:49:32 CEST  ...   \n",
       "1           19907.0               21343.0  2023-08-13 23:10:55 CEST  ...   \n",
       "2            7194.0                7582.0  2023-08-13 23:08:00 CEST  ...   \n",
       "\n",
       "  Sponsor Name Sponsor Category Overperforming Score       Date  dem_count  \\\n",
       "0          NaN              NaN                -1.17 2023-08-01          1   \n",
       "1          NaN              NaN                -2.46 2023-08-01          0   \n",
       "2          NaN              NaN                -2.83 2023-08-01          0   \n",
       "\n",
       "   rep_count  neg_count  pos_count  affect_count  moral_emo_count  \n",
       "0          0          0          0             0                0  \n",
       "1          1          0          1             1                0  \n",
       "2          0          0          1             1                0  \n",
       "\n",
       "[3 rows x 47 columns]"
      ]
     },
     "execution_count": 178,
     "metadata": {},
     "output_type": "execute_result"
    }
   ],
   "source": [
    "rep_house_min_results.head(3)"
   ]
  },
  {
   "cell_type": "markdown",
   "metadata": {},
   "source": [
    "Apply function to all dfs"
   ]
  },
  {
   "cell_type": "code",
   "execution_count": 179,
   "metadata": {},
   "outputs": [],
   "source": [
    "#Function to create a df with the results for the dfs of congress pages, media for both parties\n",
    "\n",
    "def dictionary_columns(df):\n",
    "    df_results = df.copy()\n",
    "\n",
    "    count_cols = ['dem_count', 'rep_count', 'neg_count', 'pos_count', 'affect_count', 'moral_emo_count']\n",
    "    df_results[count_cols] = df_results['Message'].progress_apply(lambda x: pd.Series(count_terms(str(x))))\n",
    "\n",
    "    return df_results\n"
   ]
  },
  {
   "cell_type": "markdown",
   "metadata": {},
   "source": [
    "Democrat congress members and media counts"
   ]
  },
  {
   "cell_type": "code",
   "execution_count": 180,
   "metadata": {},
   "outputs": [],
   "source": [
    "#dem_congress_results = dictionary_columns(dem_congress)"
   ]
  },
  {
   "cell_type": "code",
   "execution_count": 181,
   "metadata": {},
   "outputs": [],
   "source": [
    "#dem_congress_results.to_pickle(\"analysis_df/dem_congress_countcol\")"
   ]
  },
  {
   "cell_type": "code",
   "execution_count": 182,
   "metadata": {},
   "outputs": [],
   "source": [
    "#left_mediafb_results = dictionary_columns(left_mediafb)"
   ]
  },
  {
   "cell_type": "code",
   "execution_count": 183,
   "metadata": {},
   "outputs": [],
   "source": [
    "#left_mediafb_results.to_pickle(\"analysis_df/left_mediafb_countcol\")"
   ]
  },
  {
   "cell_type": "markdown",
   "metadata": {},
   "source": [
    "Republican congress members and media counts"
   ]
  },
  {
   "cell_type": "code",
   "execution_count": 184,
   "metadata": {},
   "outputs": [],
   "source": [
    "#rep_congress_results = dictionary_columns(rep_congress)"
   ]
  },
  {
   "cell_type": "code",
   "execution_count": 185,
   "metadata": {},
   "outputs": [],
   "source": [
    "#rep_congress_results.to_pickle(\"analysis_df/rep_congress_countcol\")"
   ]
  },
  {
   "cell_type": "code",
   "execution_count": 186,
   "metadata": {},
   "outputs": [],
   "source": [
    "#right_mediafb_results = dictionary_columns(right_mediafb)"
   ]
  },
  {
   "cell_type": "code",
   "execution_count": 187,
   "metadata": {},
   "outputs": [],
   "source": [
    "#right_mediafb_results.to_pickle(\"analysis_df/right_mediafb_countcol\")\n"
   ]
  },
  {
   "cell_type": "code",
   "execution_count": 188,
   "metadata": {},
   "outputs": [],
   "source": [
    "#Import the above\n",
    "dem_congress_countcol = pd.read_pickle(\"analysis_df/dem_congress_countcol\")\n",
    "left_mediafb_countcol = pd.read_pickle(\"analysis_df/left_mediafb_countcol\")\n",
    "rep_congress_countcol = pd.read_pickle(\"analysis_df/rep_congress_countcol\")\n",
    "right_mediafb_countcol = pd.read_pickle(\"analysis_df/right_mediafb_countcol\")"
   ]
  }
 ],
 "metadata": {
  "kernelspec": {
   "display_name": "Python 3 (ipykernel)",
   "language": "python",
   "name": "python3"
  },
  "language_info": {
   "codemirror_mode": {
    "name": "ipython",
    "version": 3
   },
   "file_extension": ".py",
   "mimetype": "text/x-python",
   "name": "python",
   "nbconvert_exporter": "python",
   "pygments_lexer": "ipython3",
   "version": "3.9.13"
  }
 },
 "nbformat": 4,
 "nbformat_minor": 4
}
